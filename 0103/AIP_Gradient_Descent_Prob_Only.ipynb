{
  "cells": [
    {
      "cell_type": "markdown",
      "metadata": {
        "id": "USyPcVLPnSl_"
      },
      "source": [
        "# AI Programming\n",
        "\n",
        "### 문제를 풀어 Code block에 작성한 뒤 실행하여 출력이 남아있는 상태로 저장 한 뒤 PLATO에 제출하세요.\n",
        "### 반드시 내 Drive에 복사 후 시험을 시작 하시기 바랍니다.\n",
        "### 반드시 첫 번째 Code block에 이름을 기입하세요."
      ]
    },
    {
      "cell_type": "code",
      "execution_count": null,
      "metadata": {
        "id": "IFZPJ6Q_m-vh"
      },
      "outputs": [],
      "source": [
        "# Your name in english\n",
        "STUDENT_NAME_IN_ENGLISH = \"손재우\""
      ]
    },
    {
      "cell_type": "markdown",
      "metadata": {
        "id": "ag9cTw-7neuG"
      },
      "source": [
        "### Fill in the blank in the following program make it work correctly.\n",
        "### A blank is defined as a block wrapped by #### BLANK START ~ #### BLANK END\n",
        "### You are not allowed to add or modify codes outside of blanks\n",
        "### If [RUN] is provided, the output is execution output example.\n",
        "\n",
        "### 프로그램이 정확히 동작 할 수 있도록 빈칸(Blank)을 완성하세요.\n",
        "### Blank는 #### BLANK START ~ #### BLANK END 로 표시 된 영역을 의미합니다.\n",
        "### Blank 외부의 소스 코드를 변경 또는 추가 할 수 없습니다.\n",
        "### [RUN]이 제공 된 경우, 프로그램 실행 후의 출력 예시 입니다."
      ]
    },
    {
      "cell_type": "markdown",
      "metadata": {
        "id": "F0ypZiHGpMEe"
      },
      "source": [
        "## Reference\n",
        "\n",
        "### Forward difference for gradient calculation\n",
        "\n",
        "\n",
        "![image.png](data:image/png;base64,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)"
      ]
    },
    {
      "cell_type": "code",
      "execution_count": null,
      "metadata": {
        "id": "wHQ5_FrinklC"
      },
      "outputs": [],
      "source": [
        "# [30pt]\n",
        "import numpy as np\n",
        "\n",
        "class MyGrad:\n",
        "  @staticmethod\n",
        "  def grad(eq, curr, dx=1e-6):\n",
        "    \"\"\"\n",
        "      grad calculates numerical gradient using the forward difference.\n",
        "\n",
        "      eq : A string that contains the definition of f(x)\n",
        "      curr : A dictionary that contains current variable values for gradient evaluation\n",
        "      dx : perturbation size for the forward difference\n",
        "\n",
        "      g : A numpy array of gradient vector calculated at curr using the forward difference\n",
        "\n",
        "      Please refer to the execution examples for more details.\n",
        "    \"\"\"\n",
        "    try:\n",
        "    #### BLANK START\n",
        "      varNames = list(curr.keys())\n",
        "      g = []\n",
        "      xx = list(curr.values())\n",
        "      # v = eq\n",
        "      \n",
        "\n",
        "\n",
        "      # 입력 예시 : {'x0':1, 'x1':0, 'x2': -1 }\n",
        "      # x = [1, 0, -1]\n",
        "      # v = 현재 수식 값\n",
        "      # for i in range(len(varNames)):\n",
        "      x_new = xx[:]\n",
        "\n",
        "        # dx를 i번째에 적용하는 부분 추가\n",
        "\n",
        "      for j in range(len(varNames)):\n",
        "        cmd = varNames[j] + '=' + str(x_new[j])\n",
        "        exec(cmd)\n",
        "      v = eval(eq)\n",
        "\n",
        "      for k in range(len(varNames)):\n",
        "        for l in range(len(varNames)):\n",
        "          if k == l:\n",
        "            cmd = varNames[l] + '=' + str(xx[l] + dx)\n",
        "          else:\n",
        "            cmd = varNames[l] + '=' + str(xx[l])\n",
        "          exec(cmd)\n",
        "        v_new = eval(eq)\n",
        "\n",
        "        g.append((v_new - v) /dx)\n",
        "        \n",
        "      \n",
        "      # v_new = eval(수식) dx가 더해진 경우의 수식 값\n",
        "      # print(g)\n",
        "      return np.array(g)\n",
        "\n",
        "      \n",
        "      \n",
        "\n",
        "      # eq = [eq.split()]\n",
        "      # for key in curr:\n",
        "      #       assignment = eq[i] + '=' + str(curr[i])\n",
        "      #       exec(assignment)\n",
        "\n",
        "      # curr 의 key는 변수 명, value는 해당 변수의 현재 값\n",
        "      # dx는 gradient를 계산하기 위한 변수의 변화량\n",
        "      # curr.keys() 또는 list(curr.keys()) 를 이용해 변수 명 획득 가능\n",
        "      # 그 외의 부분은 기존의 gradient 계산 코드를 조금 수정하여 적용 가능\n",
        "      \n",
        "\n",
        "\n",
        "\n",
        "\n",
        "    #### BLANK END\n",
        "    except:\n",
        "      return \n"
      ]
    },
    {
      "cell_type": "code",
      "execution_count": null,
      "metadata": {
        "id": "UXVe-Ca3wEJh",
        "colab": {
          "base_uri": "https://localhost:8080/"
        },
        "outputId": "e19dae30-a70b-4fa6-fcac-d6a44f2ae98c"
      },
      "outputs": [
        {
          "output_type": "stream",
          "name": "stdout",
          "text": [
            "Example 1 result is correct!\n",
            "Example 2 result is correct!\n"
          ]
        }
      ],
      "source": [
        "# <!----- DO NOT CHANGE THE CODES BELOW -----!>\n",
        "\n",
        "# Example 1.\n",
        "eq = 'x0**2 + x1 + 2*x2'\n",
        "curr = {'x0': 1, 'x1': 0, 'x2': -1}\n",
        "g_ref = np.array([2.0, 1.0, 2.0])\n",
        "g_ans = MyGrad.grad(eq, curr)\n",
        "if g_ans is not None and np.allclose(g_ref, g_ans):\n",
        "    print('Example 1 result is correct!')\n",
        "else:\n",
        "    print('Example 1 result is wrong!')\n",
        "\n",
        "# Example 2.\n",
        "eq = 'x**(-1) + 3*y**2 - 2*z**4'\n",
        "curr = {'x': 0.5, 'y': -0.5, 'z': -1}\n",
        "g_ref = np.array([-4.0, -3.0, 8.0])\n",
        "g_ans = MyGrad.grad(eq, curr)\n",
        "if g_ans is not None and np.allclose(g_ref, g_ans):\n",
        "    print('Example 2 result is correct!')\n",
        "else:\n",
        "    print('Example 2 result is wrong!')\n",
        "\n",
        "# More examples will be used for the final evaluation.\n",
        "\n",
        "# [RUN]\n",
        "# Example 1 result is correct!\n",
        "# Example 2 result is correct!"
      ]
    },
    {
      "cell_type": "code",
      "source": [],
      "metadata": {
        "id": "okpVy-GaSsZA"
      },
      "execution_count": null,
      "outputs": []
    }
  ],
  "metadata": {
    "colab": {
      "provenance": []
    },
    "kernelspec": {
      "display_name": "Python 3",
      "language": "python",
      "name": "python3"
    },
    "language_info": {
      "codemirror_mode": {
        "name": "ipython",
        "version": 3
      },
      "file_extension": ".py",
      "mimetype": "text/x-python",
      "name": "python",
      "nbconvert_exporter": "python",
      "pygments_lexer": "ipython3",
      "version": "3.9.13"
    },
    "vscode": {
      "interpreter": {
        "hash": "fe5fe42e8265b0233a98609db62cc6183951848584a0a11492e1aba015613f33"
      }
    }
  },
  "nbformat": 4,
  "nbformat_minor": 0
}