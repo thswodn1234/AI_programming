{
  "nbformat": 4,
  "nbformat_minor": 0,
  "metadata": {
    "colab": {
      "provenance": []
    },
    "kernelspec": {
      "name": "python3",
      "display_name": "Python 3"
    },
    "language_info": {
      "name": "python"
    }
  },
  "cells": [
    {
      "cell_type": "code",
      "source": [
        "str_input = input('Enter a sentence: ')\n",
        "word1 = input('Enter word to replace: ')\n",
        "word2 = input('Enter replacement word: ')\n",
        "str_output = str_input.replace(word1, word2)\n",
        "print(str_output)\n",
        "print(str_input)"
      ],
      "metadata": {
        "colab": {
          "base_uri": "https://localhost:8080/"
        },
        "id": "WvXkxGwvU4n4",
        "outputId": "b986e791-1055-4352-ecc2-13505e67ca94"
      },
      "execution_count": 11,
      "outputs": [
        {
          "output_type": "stream",
          "name": "stdout",
          "text": [
            "Enter a sentence: hi hello hi\n",
            "Enter word to replace: hi\n",
            "Enter replacement word: bye\n",
            "bye hello bye\n",
            "hi hello hi\n"
          ]
        }
      ]
    },
    {
      "cell_type": "code",
      "source": [
        "f = eval(input('Enter future value: '))\n",
        "r = eval(input('Enter interest rate (as %): '))\n",
        "n = eval(input('Enter number of years: '))\n",
        "\n",
        "p = f / (1 + r / 100) ** n\n",
        "\n",
        "print('Present value: ${0:,.2f}'.format(p))"
      ],
      "metadata": {
        "colab": {
          "base_uri": "https://localhost:8080/"
        },
        "id": "t_gvljv3VjBQ",
        "outputId": "7a85d4c6-466e-492b-e3c8-382ee03f3511"
      },
      "execution_count": 21,
      "outputs": [
        {
          "output_type": "stream",
          "name": "stdout",
          "text": [
            "Enter future value: 10000\n",
            "Enter interest rate (as %): 4\n",
            "Enter number of years: 6\n",
            "Present value: $7,903.15\n"
          ]
        }
      ]
    },
    {
      "cell_type": "code",
      "source": [
        "word = input('Enter word to translate: ')\n",
        "\n",
        "if word[0] in 'aeiou':\n",
        "  # 모음으로 시작할때 실행됨.\n",
        "  print(word + 'way')\n",
        "else:\n",
        "  # 자음으로 시작할대 실행됨.\n",
        "  idx = 0\n",
        "  while True:\n",
        "    # Short-Circuit Evaluation\n",
        "    if len(word) == idx or word[idx] in 'aeiou':\n",
        "    # if word[idx] in 'aeiou' or len(word) == idx:\n",
        "      break\n",
        "    else:\n",
        "      idx += 1\n",
        "  g = word[:idx]\n",
        "  word = word[idx:] + g + 'ay'\n",
        "  print(word)\n",
        "  # print(idx)\n",
        "\n",
        "\n",
        "\n",
        "\n",
        "# vowels = ['a', 'e', 'i', 'o', 'u']\n",
        "# done = False\n",
        "\n",
        "# for i in range(5):\n",
        "#   if word[0] == vowels[i]:\n",
        "#     word = word + 'way'\n",
        "#     print(word)\n",
        "#     done = True\n",
        "#     break\n",
        "\n",
        "# if not done:\n",
        "#   \"찾는다 자음 그룹을~~~\"\n",
        "\n",
        "\n"
      ],
      "metadata": {
        "colab": {
          "base_uri": "https://localhost:8080/"
        },
        "id": "c_2HLeq1W2EJ",
        "outputId": "f9e305b3-7f79-4380-8e57-6a89b1d0a429"
      },
      "execution_count": 30,
      "outputs": [
        {
          "output_type": "stream",
          "name": "stdout",
          "text": [
            "Enter word to translate: bbbb\n",
            "bbbbay\n",
            "4\n"
          ]
        }
      ]
    },
    {
      "cell_type": "code",
      "source": [
        "r = eval(input('Enter coefficient of restitution: '))\n",
        "h = eval(input('Enter initial height in meters: '))\n",
        "\n",
        "# 처음 h 에서 떨어졌을 때!\n",
        "d = h\n",
        "count = 1\n",
        "\n",
        "# 그 이후는 왕복한 거리를 고려해야 한다.\n",
        "h *= r\n",
        "while(h >= 0.1):\n",
        "  d += 2*h\n",
        "  count += 1\n",
        "  h *= r\n",
        "\n",
        "print('Number of bounces: {}'.format(count))\n",
        "print('Meters traveled: {:.2f}'.format(d))"
      ],
      "metadata": {
        "colab": {
          "base_uri": "https://localhost:8080/"
        },
        "id": "x9cI00dLW4HB",
        "outputId": "0a164857-587b-4bb2-e7e2-b73643f79900"
      },
      "execution_count": 33,
      "outputs": [
        {
          "output_type": "stream",
          "name": "stdout",
          "text": [
            "Enter coefficient of restitution: .7\n",
            "Enter initial height in meters: 8\n",
            "Number of bounces: 13\n",
            "Meters traveled: 44.82\n"
          ]
        }
      ]
    },
    {
      "cell_type": "code",
      "source": [
        "s = 0\n",
        "for i in range(1, 1000001):\n",
        "  while(i > 0):\n",
        "    # i = 123 -> 12 -> 1 -> 0\n",
        "    # s = s + 3 + 2 + 1\n",
        "    s += i % 10\n",
        "    i = i // 10\n",
        "\n",
        "print('Sum: {:,}'.format(s))"
      ],
      "metadata": {
        "colab": {
          "base_uri": "https://localhost:8080/"
        },
        "id": "rJxk3AFzcmxZ",
        "outputId": "3c0a7f9b-4a34-4e95-a7dd-437d32fc9151"
      },
      "execution_count": 34,
      "outputs": [
        {
          "output_type": "stream",
          "name": "stdout",
          "text": [
            "Sum: 27,000,001\n"
          ]
        }
      ]
    },
    {
      "cell_type": "code",
      "source": [
        "s = 0\n",
        "for i in range(1, 1000001):\n",
        "  # 정수를 문자열로 변환\n",
        "  val = str(i)\n",
        "  for c in val:\n",
        "    # 문자열에 들어있는 각 자리수를 숫자로 변환하여 더함\n",
        "    s += int(c)\n",
        "\n",
        "print('Sum: {:,}'.format(s))"
      ],
      "metadata": {
        "colab": {
          "base_uri": "https://localhost:8080/"
        },
        "id": "vZFn-rU7eMMh",
        "outputId": "c483839a-8c83-48a1-e22a-8af676f45937"
      },
      "execution_count": 39,
      "outputs": [
        {
          "output_type": "stream",
          "name": "stdout",
          "text": [
            "Sum: 27,000,001\n"
          ]
        }
      ]
    },
    {
      "cell_type": "code",
      "source": [
        "# Solution by 이정민 훈련생\n",
        "s = 0\n",
        "for i in range(1, 1000001):\n",
        "  # 정수를 문자열로 변환\n",
        "  val = str(i)\n",
        "  s += eval('+'.join(val))\n",
        "\n",
        "print('Sum: {:,}'.format(s))"
      ],
      "metadata": {
        "colab": {
          "base_uri": "https://localhost:8080/"
        },
        "id": "YgogGs9keaMZ",
        "outputId": "b809ae4e-fb44-4aa4-850a-095449a81e62"
      },
      "execution_count": 40,
      "outputs": [
        {
          "output_type": "stream",
          "name": "stdout",
          "text": [
            "Sum: 27,000,001\n"
          ]
        }
      ]
    }
  ]
}