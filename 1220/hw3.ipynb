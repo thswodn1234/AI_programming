{
 "cells": [
  {
   "attachments": {},
   "cell_type": "markdown",
   "metadata": {},
   "source": [
    "Homework #3"
   ]
  },
  {
   "attachments": {},
   "cell_type": "markdown",
   "metadata": {},
   "source": [
    "Exercises 4.2\n",
    "68. Mortgage Calculations Write a program to calculate three monthly values\n",
    "associated with a mortgage. The interest paid each month is the monthly rate\n",
    "of interest (annual rate of interest / 12) applied to the balance at the beginning\n",
    "of the month. Each month the reduction of principal equals the monthly payment\n",
    "minus the interest paid. At any time, the balance of the mortgage is the amount\n",
    "still owed—that is, the amount required to pay off the mortgage. The end of\n",
    "month balance is calculated as [beginning of month balance] - [reduction of\n",
    "principal]. \n",
    "\n",
    "The main function should call three functions—one (multi-valued)\n",
    "for input, one (multi-valued) to calculate the values, and one for output\n",
    "\n",
    "Enter annual rate of interest: 5    \n",
    "Enter monthly payment: 1932.56    \n",
    "Enter beg. of month balance: 357819.11    \n",
    "Interest paid for the month: $1,490.91    \n",
    "Reduction of principal: $441.65    \n",
    "End of month balance: $357,377.46     "
   ]
  },
  {
   "cell_type": "code",
   "execution_count": 11,
   "metadata": {},
   "outputs": [
    {
     "name": "stdout",
     "output_type": "stream",
     "text": [
      "Interest paid for the month: $1,490.91\n",
      "Reduction of principal: $441.65\n",
      "End of month balance: $357,377.46\n"
     ]
    }
   ],
   "source": [
    "r = eval(input(\"Enter annual rate of interest: \"))    \n",
    "mp = eval(input(\"Enter monthly payment: \"))    \n",
    "b = eval(input(\"Enter beg. of month balance: \"))\n",
    "im = b * r/100 / 12\n",
    "emb = b + im - mp \n",
    "print(f\"Interest paid for the month: ${im:,.2f}\")\n",
    "print(f\"Reduction of principal: ${mp - im:.2f}\")\n",
    "print(f\"End of month balance: ${emb:,.2f}\")\n"
   ]
  },
  {
   "attachments": {},
   "cell_type": "markdown",
   "metadata": {},
   "source": [
    "70. Wilson’s Theorem A number is prime if its only factors are 1 and itself.\n",
    "Write a program that determines whether a number is prime by using the\n",
    "theorem \"The number n is a prime number if and only if n divides\n",
    "\n",
    "(n – 1)! + 1.\" The program should define a Boolean-valued function named\n",
    "isPrime that calls a function named factorial. \n",
    "\n",
    " Enter an integer greater than 1: 37    \n",
    " 37 is a prime number.     "
   ]
  },
  {
   "cell_type": "code",
   "execution_count": 5,
   "metadata": {},
   "outputs": [
    {
     "name": "stdout",
     "output_type": "stream",
     "text": [
      "37 is a prime number\n"
     ]
    }
   ],
   "source": [
    "import math\n",
    "def isPrime():\n",
    "    a = int(input(\"Enter an integer greater than 1:\"))\n",
    "    if (math.factorial(a-1) + 1) % a == 0:\n",
    "        print(f\"{a} is a prime number\")\n",
    "    else:\n",
    "        print(f\"{a} is not a prime number\")\n",
    "\n",
    "isPrime()\n"
   ]
  },
  {
   "attachments": {},
   "cell_type": "markdown",
   "metadata": {},
   "source": [
    "CHAPTER 4 PROGRAMMING PROJECTS\n",
    "5. Alphabetical Order The following words have three consecutive letters that\n",
    "are also consecutive letters in the alphabet: THIRSTY, NOPE,\n",
    "AFGHANISTAN, STUDENT. Write a program that accepts a word as input\n",
    "and determines whether or not it has three consecutive letters that are\n",
    "consecutive letters in the alphabet. The program should use a Boolean-valued\n",
    "function named isTripleConsecutive that accepts an entire word as input. Hint:\n",
    "Use the ord function.\n",
    "\n",
    "Enter a word: HIJACK    \n",
    "HIJACK contains three successive letters   \n",
    "in consecutive alphabetical order.   \n",
    "\n"
   ]
  },
  {
   "cell_type": "code",
   "execution_count": 22,
   "metadata": {},
   "outputs": [],
   "source": [
    "a = input(\"Enter a word: \")\n",
    "w = list(a)\n",
    "s = [ord(i) for i in w]\n",
    "\n",
    "for i in range(1,len(s)-1):\n",
    "    if (s[i] * 2  == s[i-1] + s[i + 1]):\n",
    "        print(f\"{a} contains three successive letters\")\n",
    "        break\n",
    "        \n",
    "\n",
    "\n"
   ]
  },
  {
   "attachments": {},
   "cell_type": "markdown",
   "metadata": {},
   "source": [
    "Exercises 5.1\n",
    "40. Months The file SomeMonths.txt initially contains the names of the 12\n",
    "months, one per line. Write a program that deletes all months from the file\n",
    "that do not contain the letter r."
   ]
  },
  {
   "cell_type": "code",
   "execution_count": 24,
   "metadata": {},
   "outputs": [
    {
     "ename": "PermissionError",
     "evalue": "[Errno 13] Permission denied: './h3 data files/'",
     "output_type": "error",
     "traceback": [
      "\u001b[1;31m---------------------------------------------------------------------------\u001b[0m",
      "\u001b[1;31mPermissionError\u001b[0m                           Traceback (most recent call last)",
      "\u001b[1;32m~\\AppData\\Local\\Temp\\ipykernel_8588\\3533733968.py\u001b[0m in \u001b[0;36m<module>\u001b[1;34m\u001b[0m\n\u001b[1;32m----> 1\u001b[1;33m \u001b[0mf\u001b[0m \u001b[1;33m=\u001b[0m \u001b[0mopen\u001b[0m\u001b[1;33m(\u001b[0m\u001b[1;34m\"./h3 data files/\"\u001b[0m\u001b[1;33m,\u001b[0m \u001b[1;34m'r'\u001b[0m\u001b[1;33m)\u001b[0m\u001b[1;33m\u001b[0m\u001b[1;33m\u001b[0m\u001b[0m\n\u001b[0m\u001b[0;32m      2\u001b[0m \u001b[0mf\u001b[0m\u001b[1;33m\u001b[0m\u001b[1;33m\u001b[0m\u001b[0m\n\u001b[0;32m      3\u001b[0m \u001b[0mf\u001b[0m\u001b[1;33m.\u001b[0m\u001b[0mclose\u001b[0m\u001b[1;33m\u001b[0m\u001b[1;33m\u001b[0m\u001b[0m\n",
      "\u001b[1;31mPermissionError\u001b[0m: [Errno 13] Permission denied: './h3 data files/'"
     ]
    }
   ],
   "source": [
    "f = open(\"./h3 data files/\", 'r')\n",
    "f\n",
    "f.close"
   ]
  },
  {
   "attachments": {},
   "cell_type": "markdown",
   "metadata": {},
   "source": [
    "46. File of Names The file Names.txt contains a list of first names in\n",
    "alphabetical order. Write a program that requests a name from the user and \n",
    "inserts the name into the file in its proper location. If the name is already in\n",
    "the file, it should not be inserted. You should use set operations in your\n",
    "program."
   ]
  },
  {
   "cell_type": "code",
   "execution_count": null,
   "metadata": {},
   "outputs": [],
   "source": []
  },
  {
   "attachments": {},
   "cell_type": "markdown",
   "metadata": {},
   "source": [
    "CHAPTER 5 PROGRAMMING PROJECTS\n",
    "1. Unit Conversions The following table contains some lengths in terms of feet.\n",
    "Write a program that displays the nine different units of measure; requests the\n",
    "unit to convert from, the unit to convert to, and the quantity to be converted;\n",
    "and then displays the converted quantity. A typical outcome is shown in the\n",
    "shaded box below. Use the file Units.txt to create a dictionary that\n",
    "provides the number of feet for a given unit of length. The first two lines of\n",
    "the file are inches,.083333; furlongs,660.\n",
    "\n",
    "UNITS OF LENGTH   \n",
    "inches feet miles    \n",
    "meters fathoms yards   \n",
    "kilometers furlongs rods   \n",
    "\n",
    "Unit to convert from: yards    \n",
    "Unit to convert to: miles   \n",
    "Enter length in yards: 555    \n",
    "Length in miles: 0.3153    "
   ]
  },
  {
   "cell_type": "code",
   "execution_count": null,
   "metadata": {},
   "outputs": [],
   "source": []
  }
 ],
 "metadata": {
  "kernelspec": {
   "display_name": "base",
   "language": "python",
   "name": "python3"
  },
  "language_info": {
   "codemirror_mode": {
    "name": "ipython",
    "version": 3
   },
   "file_extension": ".py",
   "mimetype": "text/x-python",
   "name": "python",
   "nbconvert_exporter": "python",
   "pygments_lexer": "ipython3",
   "version": "3.9.13 (main, Aug 25 2022, 23:51:50) [MSC v.1916 64 bit (AMD64)]"
  },
  "orig_nbformat": 4,
  "vscode": {
   "interpreter": {
    "hash": "ad2bdc8ecc057115af97d19610ffacc2b4e99fae6737bb82f5d7fb13d2f2c186"
   }
  }
 },
 "nbformat": 4,
 "nbformat_minor": 2
}
