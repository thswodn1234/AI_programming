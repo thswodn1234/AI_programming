{
 "cells": [
  {
   "attachments": {},
   "cell_type": "markdown",
   "metadata": {},
   "source": [
    "06 Miscellaneous Topics"
   ]
  },
  {
   "cell_type": "code",
   "execution_count": 2,
   "metadata": {},
   "outputs": [
    {
     "name": "stdout",
     "output_type": "stream",
     "text": [
      "[Errno 2] No such file or directory: 'Numbers.txt'\n"
     ]
    }
   ],
   "source": [
    "def main():\n",
    "    try:\n",
    "        fileName = input(\"Enter the name of a file: \")\n",
    "        infile = open(fileName, 'r')\n",
    "        num = float(infile.readline())\n",
    "        print(1 / num)\n",
    "    except FileNotFoundError as exc1:\n",
    "        print(exc1)\n",
    "    except ValueError as exc2:\n",
    "        print(exc2)\n",
    "\n",
    "\n",
    "main()"
   ]
  },
  {
   "cell_type": "code",
   "execution_count": 3,
   "metadata": {},
   "outputs": [],
   "source": [
    "def main():\n",
    "    total = 0\n",
    "    count = 0\n",
    "    foundFlag = True\n",
    "    try:\n",
    "        infile = open(\"Numbers.txt\", 'r')\n",
    "    except FileNotFoundError:\n",
    "        print(\"File not found.\")\n",
    "        foundFlag = False\n",
    "    if foundFlag:\n",
    "        try:\n",
    "            for line in infile:\n",
    "                count += 1\n",
    "                total += float(line)\n",
    "            print(\"average:\", total / count)\n",
    "        except ValueError:\n",
    "            print(\"Line\", count, \"could not be converted to a float\")\n",
    "\n",
    "            if count > 1:\n",
    "                print(\"Average so far:\", total / (count-1))\n",
    "                print(\"Total so far:\", total)\n",
    "            else:\n",
    "                print(\"No average can be calculated.\")\n",
    "        except ZeroDivisionError:\n",
    "            print(\"File was empty.\")\n",
    "        else:\n",
    "            print(\"Total:\", total)\n",
    "        finally:\n",
    "            infile.close()"
   ]
  },
  {
   "cell_type": "code",
   "execution_count": 106,
   "metadata": {},
   "outputs": [
    {
     "name": "stdout",
     "output_type": "stream",
     "text": [
      "air\n",
      "['earth', 'fire']\n",
      "['air', 'warter', 'earth', 'fire']\n",
      "1\n"
     ]
    }
   ],
   "source": [
    "import random\n",
    "\n",
    "elements = [\"earth\", \"air\", \"fire\" , \"warter\"]\n",
    "print(random.choice(elements))\n",
    "print(random.sample(elements, 2))\n",
    "random.shuffle(elements)\n",
    "print(elements)\n",
    "print(random.randint(1, 5))"
   ]
  },
  {
   "cell_type": "code",
   "execution_count": 189,
   "metadata": {},
   "outputs": [
    {
     "name": "stdout",
     "output_type": "stream",
     "text": [
      "Orange   Plum   Plum   Cherries   Cherries   Melon   Bar   Bar   Cherries   Melon   "
     ]
    }
   ],
   "source": [
    "import random\n",
    "\n",
    "def main():\n",
    "    for i in range(10):\n",
    "        outcome = spinWheel()\n",
    "        print(outcome, end = \"   \")\n",
    "\n",
    "def spinWheel():\n",
    "    n = random.randint(1, 20)\n",
    "    if n > 15:\n",
    "        return \"Cherries\"\n",
    "    elif n > 10:\n",
    "        return \"Orange\"\n",
    "    elif n > 5:\n",
    "        return \"Plum\"\n",
    "    elif n > 2:\n",
    "        return \"Melon\"\n",
    "    elif n > 1:\n",
    "        return \"Bell\"\n",
    "    else :\n",
    "        return \"Bar\"\n",
    "\n",
    "main()"
   ]
  },
  {
   "cell_type": "code",
   "execution_count": 191,
   "metadata": {},
   "outputs": [
    {
     "name": "stdout",
     "output_type": "stream",
     "text": [
      "0.9880682503348369\n",
      "0.7713335177175018\n",
      "0.5854296649635501\n",
      "0.7509761579564638\n",
      "0.26016026104408874\n",
      "0.5820965871121656\n",
      "0.2968319817453605\n",
      "0.2972232713575126\n",
      "0.6755124814581607\n",
      "0.0582086294248626\n"
     ]
    }
   ],
   "source": [
    "import random\n",
    "\n",
    "for _ in range(10) :\n",
    "    print(random.uniform(0,1))"
   ]
  },
  {
   "cell_type": "code",
   "execution_count": 283,
   "metadata": {},
   "outputs": [
    {
     "data": {
      "text/plain": [
       "70003865"
      ]
     },
     "execution_count": 283,
     "metadata": {},
     "output_type": "execute_result"
    }
   ],
   "source": [
    "import random\n",
    "cnt = 0\n",
    "for _ in range(100000000) :\n",
    "    if random.uniform(0,1) < 0.7:\n",
    "        cnt += 1\n",
    "cnt"
   ]
  },
  {
   "cell_type": "code",
   "execution_count": 293,
   "metadata": {},
   "outputs": [
    {
     "name": "stdout",
     "output_type": "stream",
     "text": [
      "True\n",
      "True\n",
      "False\n",
      "True\n",
      "True\n",
      "True\n"
     ]
    }
   ],
   "source": [
    "def isPalindrome(word):\n",
    "    word = word.lower()\n",
    "\n",
    "    if len(word) <= 1:\n",
    "        return True\n",
    "    elif word[0] == word[-1]:\n",
    "        word = word[1:-1]\n",
    "        return isPalindrome(word)\n",
    "    else:\n",
    "        return False\n",
    "\n",
    "print(isPalindrome(\"aa\"))\n",
    "print(isPalindrome(\"aba\"))\n",
    "print(isPalindrome(\"abca\"))\n",
    "print(isPalindrome(\"다시합창합시다\"))\n",
    "print(isPalindrome(\"소주만병만주소\"))\n",
    "print(isPalindrome(\"WasitacatIsaw\"))"
   ]
  },
  {
   "attachments": {},
   "cell_type": "markdown",
   "metadata": {},
   "source": [
    "Exercises 6.2\n",
    "Write lines of code to carry out the stated task. Note that the random module\n",
    "has to be imported."
   ]
  },
  {
   "attachments": {},
   "cell_type": "markdown",
   "metadata": {},
   "source": [
    "9. Alphabet Display three letters selected at random from the alphabet."
   ]
  },
  {
   "cell_type": "code",
   "execution_count": 665,
   "metadata": {},
   "outputs": [
    {
     "name": "stdout",
     "output_type": "stream",
     "text": [
      "wzw"
     ]
    }
   ],
   "source": [
    "import random\n",
    "\n",
    "\n",
    "\n",
    "a = chr(int(random.uniform(97,123)))\n",
    "b = chr(int(random.uniform(97,123)))\n",
    "c = chr(int(random.uniform(97,123)))\n",
    "print(a, end=\"\")\n",
    "print(b, end=\"\")\n",
    "print(c, end=\"\")\n",
    "\n"
   ]
  },
  {
   "attachments": {},
   "cell_type": "markdown",
   "metadata": {},
   "source": [
    "13. Coin Toss a coin 100 times and display the number of times that a\n",
    "“Head” occurs.\n"
   ]
  },
  {
   "cell_type": "code",
   "execution_count": 615,
   "metadata": {},
   "outputs": [
    {
     "data": {
      "text/plain": [
       "55"
      ]
     },
     "execution_count": 615,
     "metadata": {},
     "output_type": "execute_result"
    }
   ],
   "source": [
    "cnt = 0\n",
    "for _ in range(100) :\n",
    "    if random.uniform(0,1) < 0.5:\n",
    "        cnt += 1\n",
    "cnt"
   ]
  },
  {
   "attachments": {},
   "cell_type": "markdown",
   "metadata": {},
   "source": [
    "17. \n",
    "Matching Cards Suppose two shuffled decks of cards are placed on a table, and then cards are drawn from the tops of the decks one at a time and compared.\n",
    "\n",
    " On average, how many matches do you think will occur? Write a program to carry out this process 10,000 times and calculate the average number of matches that occur.\n",
    " \n",
    "  A possible output is shown in the shaded box below.\n",
    "\n",
    "The average number of cards   \n",
    "that matched was 1.013.    "
   ]
  },
  {
   "attachments": {},
   "cell_type": "markdown",
   "metadata": {},
   "source": [
    "7 . Alphabetical Order The following iterative function determines whether a list\n",
    "of lowercase words is in alphabetical order. Write the equivalent recursive\n",
    "function.\n",
    "\n",
    "def isAlpha(L):\n",
    " ## Determine whether list of lowercase words is in\n",
    "## alphabetical order.\n",
    " for i in range(len(L) - 1):\n",
    "    if L[i] > L[i + 1]:\n",
    "        return False\n",
    " return True"
   ]
  },
  {
   "cell_type": "code",
   "execution_count": 668,
   "metadata": {},
   "outputs": [],
   "source": [
    "class Rectangle:\n",
    "    def __init__(self, width=1, height =1):\n",
    "        self._width = width\n",
    "        self._height = height\n",
    "\n",
    "    def setWidth(self, width):\n",
    "        self._width = width\n",
    "    \n",
    "    def setHeight(self, height):\n",
    "        self._height = height\n",
    "    \n",
    "    def getWidth(self):\n",
    "        return self._width \n",
    "    \n",
    "    def getHeight(self):\n",
    "        return self._height \n",
    "    \n",
    "    def area(self):\n",
    "        return self._width * self._height\n",
    "    \n",
    "    def perimeter(self):\n",
    "       return 2 * (self._width + self._height)\n",
    "    \n",
    "    def __str__(self):\n",
    "        return (\"Width: \" + str(self._width) + \"\\nHeight: \" + str(self._height))\n"
   ]
  },
  {
   "cell_type": "code",
   "execution_count": 1,
   "metadata": {},
   "outputs": [
    {
     "name": "stdout",
     "output_type": "stream",
     "text": [
      "20\n",
      "18\n"
     ]
    }
   ],
   "source": [
    "import rectangle\n",
    "\n",
    "r = rectangle.Rectangle(5,4)\n",
    "print(r.area())\n",
    "print(r.perimeter())"
   ]
  },
  {
   "cell_type": "code",
   "execution_count": 2,
   "metadata": {},
   "outputs": [
    {
     "name": "stdout",
     "output_type": "stream",
     "text": [
      "Width: 4\n",
      "Height: 5\n",
      "Width: 1\n",
      "Height: 1\n",
      "Width: 4\n",
      "Height: 1\n"
     ]
    }
   ],
   "source": [
    "import rectangle\n",
    "\n",
    "r = rectangle.Rectangle(4,5)\n",
    "print(r)\n",
    "\n",
    "r = rectangle.Rectangle()\n",
    "print(r)\n",
    "\n",
    "r = rectangle.Rectangle(4)\n",
    "print(r)"
   ]
  },
  {
   "cell_type": "code",
   "execution_count": 1,
   "metadata": {},
   "outputs": [
    {
     "name": "stdout",
     "output_type": "stream",
     "text": [
      "The rectangel has the following measurements:\n",
      "Width is 4\n",
      "Height is 5\n",
      "Area is 20\n",
      "Perimeter is 18\n"
     ]
    }
   ],
   "source": [
    "import rectangle\n",
    "\n",
    "r = rectangle.Rectangle()\n",
    "\n",
    "r.setWidth(4)\n",
    "r.setHeight(5)\n",
    "print(\"The rectangel has the following measurements:\")\n",
    "\n",
    "print(\"Width is\", r.getWidth())\n",
    "print(\"Height is\", r.getHeight())\n",
    "\n",
    "print(\"Area is\", r.area())\n",
    "print(\"Perimeter is\", r.perimeter())"
   ]
  },
  {
   "cell_type": "code",
   "execution_count": 2,
   "metadata": {},
   "outputs": [
    {
     "name": "stdout",
     "output_type": "stream",
     "text": [
      "Width is 4\n",
      "Height is 5\n"
     ]
    }
   ],
   "source": [
    "print(\"Width is\", r._width)\n",
    "print(\"Height is\", r._height)"
   ]
  },
  {
   "cell_type": "code",
   "execution_count": 2,
   "metadata": {},
   "outputs": [
    {
     "name": "stdout",
     "output_type": "stream",
     "text": [
      "\n",
      "Name\tGRADE\n",
      "Fred\tA\n"
     ]
    },
    {
     "data": {
      "text/plain": [
       "<function __main__.LGstudent.__str__(self)>"
      ]
     },
     "execution_count": 2,
     "metadata": {},
     "output_type": "execute_result"
    }
   ],
   "source": [
    "def main():\n",
    "    name = input(\"Enter student`s name: \")\n",
    "    midterm = float(input(\"Enter grade on midterm exam: \"))\n",
    "    final = float(input(\"Enter grade on final exam: \"))\n",
    "\n",
    "    st = LGstudent(name, midterm , final)\n",
    "    print(\"\\nName\\tGRADE\")\n",
    "    print(st)\n",
    "\n",
    "class LGstudent:\n",
    "    def __init__(self, name=\"\", midterm=0, final=0):\n",
    "        self._name = name\n",
    "        self._midterm = midterm\n",
    "        self._final = final\n",
    "\n",
    "    def setName(self, name):\n",
    "        self._name = name\n",
    "    \n",
    "    def setMidterm(self, midterm):\n",
    "        self._midterm = midterm\n",
    "\n",
    "    def setFinal(self, final):\n",
    "        self._final = final\n",
    "    \n",
    "    def calcSemGrade(self):\n",
    "        grade = (self._midterm + self._final) / 2\n",
    "        grade = round(grade)\n",
    "        if grade >= 90:\n",
    "            return \"A\"\n",
    "        elif grade >= 80:\n",
    "            return \"B\"\n",
    "        elif grade >= 70:\n",
    "            return \"C\"\n",
    "        elif grade >= 60:\n",
    "            return \"D\"\n",
    "        else :\n",
    "            return \"F\"\n",
    "\n",
    "\n",
    "    def __str__(self):\n",
    "        return self._name + \"\\t\" + self.calcSemGrade()\n",
    "\n",
    "main()\n",
    "LGstudent.__str__\n"
   ]
  },
  {
   "cell_type": "code",
   "execution_count": 3,
   "metadata": {},
   "outputs": [
    {
     "name": "stdout",
     "output_type": "stream",
     "text": [
      "\n",
      "NAME\tGRADE\n",
      "Alice\tA\n",
      "Bob\tB\n"
     ]
    }
   ],
   "source": [
    "import lgStudent\n",
    "\n",
    "def main():\n",
    "    listOfStudents = []\n",
    "    carryOn = 'Y'\n",
    "\n",
    "    while carryOn == 'Y':\n",
    "        st = lgStudent.LGstudent()\n",
    "        name = input(\"Enter student`s name: \")\n",
    "        midterm = float(input(\"Enter grade on midterm exam: \"))\n",
    "        final = float(input(\"Enter grade on final exam: \"))\n",
    "\n",
    "        st = lgStudent.LGstudent(name, midterm , final)\n",
    "        listOfStudents.append(st)\n",
    "        carryOn = input(\"Do you want to continue (Y/N)? \")\n",
    "        carryOn = carryOn.upper()\n",
    "    print(\"\\nNAME\\tGRADE\")\n",
    "\n",
    "    for pupil in listOfStudents:\n",
    "        print(pupil)\n",
    "\n",
    "main()"
   ]
  },
  {
   "cell_type": "code",
   "execution_count": 10,
   "metadata": {},
   "outputs": [],
   "source": [
    "class Student:\n",
    "    def __init__(self, name=\"\" , midterm=0, final=0):\n",
    "        self._name = name\n",
    "        self._midterm = midterm\n",
    "        self._final = final\n",
    "\n",
    "    def setName(self, name):\n",
    "        self._name = name\n",
    "\n",
    "    def setMidterm(self, midterm):\n",
    "        self._midterm = midterm\n",
    "\n",
    "    def setFinal(self,final):\n",
    "        self._final = final\n",
    "\n",
    "    def getName(self):\n",
    "        return self._name\n",
    "\n",
    "    def __str__(self) :\n",
    "        return self._name + \"\\t\" + self.calcSemGrade()\n",
    "        \n",
    "class LGstudent(Student):\n",
    "    def calcSemGrade(self):\n",
    "        average = round((self._midterm + self._final) / 2)\n",
    "        if average >= 90:\n",
    "            return \"A\"\n",
    "        elif average >= 80:\n",
    "            return \"B\"\n",
    "        elif average >= 70:\n",
    "            return \"C\"\n",
    "        elif average >= 60:\n",
    "            return \"D\"\n",
    "        else :\n",
    "            return \"F\"\n",
    "        \n",
    "class PFstudent(Student):\n",
    "    def calcSemGrade(self):\n",
    "        average = round((self._midterm + self._final) / 2)\n",
    "        if average >= 60:\n",
    "            return \"Pass\"\n",
    "        else:\n",
    "            return \"Fail\"\n",
    "\n"
   ]
  },
  {
   "cell_type": "code",
   "execution_count": 6,
   "metadata": {},
   "outputs": [
    {
     "name": "stdout",
     "output_type": "stream",
     "text": [
      "\n",
      "NAME\tGRADE\n",
      "Alice\tPass\n",
      "Bob\tB\n",
      "Carol\tC\n"
     ]
    }
   ],
   "source": [
    "import student\n",
    "\n",
    "def main():\n",
    "    listOfStudents = obtainListOfStudents()\n",
    "    displayResults(listOfStudents)\n",
    "\n",
    "def obtainListOfStudents():\n",
    "    listOfStudents = []\n",
    "    carryOn = 'Y'\n",
    "    while carryOn == 'Y':\n",
    "        name = input(\"Enter student`s name: \")\n",
    "        midterm = float(input(\"Enter grade on midterm: \"))\n",
    "        final = float(input(\"Enter grade on final: \"))\n",
    "        category = input(\"Enter category (LG or PF): \")\n",
    "        if category.upper() == \"LG\":\n",
    "            st = student.LGstudent(name,midterm,final)\n",
    "        else:\n",
    "            st = student.PFstudent(name,midterm,final)\n",
    "        listOfStudents.append(st)\n",
    "        carryOn = input(\"Do you wnat to continue (Y/N)? \")\n",
    "        carryOn = carryOn.upper()\n",
    "    return listOfStudents\n",
    "\n",
    "def displayResults(listOfStudents):\n",
    "    print(\"\\nNAME\\tGRADE\")\n",
    "    listOfStudents.sort(key = lambda x : x.getName())\n",
    "    for pupil in listOfStudents:\n",
    "        print(pupil)\n",
    "\n",
    "main()\n"
   ]
  },
  {
   "cell_type": "code",
   "execution_count": null,
   "metadata": {},
   "outputs": [],
   "source": [
    "def displayResults(listOfStudents):\n",
    "    print(\"\\nNAME\\tGRADE\")\n",
    "    numberOfLGstudents = 0\n",
    "    listOfStudents.sort(key=lamb)"
   ]
  },
  {
   "cell_type": "code",
   "execution_count": 11,
   "metadata": {},
   "outputs": [],
   "source": [
    "class PFstudent(Student):\n",
    "    def __init__(self, name=\"\", midterm=0, final=0, fullTime=True):\n",
    "        super().__init__(name, midterm, final)\n",
    "        self._fullTime = fullTime\n",
    "    \n",
    "    def setFullTime(self, fullTime):\n",
    "        self._fullTime = fullTime\n",
    "\n",
    "    def getFullTime(self):\n",
    "        return self._fullTime\n",
    "    \n",
    "    def calcSemGrade(self):\n",
    "        average = round((self._midterm + self._final) / 2)\n",
    "        if average >= 60:\n",
    "            return \"Pass\"\n",
    "        else:\n",
    "            return \"Fail\"\n",
    "\n",
    "    def __str__(self):\n",
    "        if self._fullTime:\n",
    "            status = \"Full-time student\"\n",
    "        else:\n",
    "            status = \"Part-time student\"\n",
    "        return (self._name + \"\\t\" + self.calcSemGrade() + \"\\t\" + status)"
   ]
  },
  {
   "cell_type": "code",
   "execution_count": 14,
   "metadata": {},
   "outputs": [
    {
     "name": "stdout",
     "output_type": "stream",
     "text": [
      "\n",
      "NAME\tGRADE\tSTATUS\n",
      "Alice\tPass\tPart-time student\n"
     ]
    }
   ],
   "source": [
    "import studentWithStatus\n",
    "\n",
    "def main():\n",
    "    name = input(\"Enter student`s name: \")\n",
    "    midterm = float(input(\"Enter grade on midterm: \"))\n",
    "    final = float(input(\"Enter grade on final: \"))\n",
    "    category = input(\"Enter category (LG or PF): \")\n",
    "    if category.upper() == \"LG\":\n",
    "        st = student.LGstudent(name,midterm,final)\n",
    "    else:\n",
    "        question = input(\"Is \" + name + \" a full time student (Y/N)? \")\n",
    "        if question.upper() == 'Y':\n",
    "            fullTime = True\n",
    "        else:\n",
    "            fullTime = False\n",
    "        st = studentWithStatus.PFstudent(name,midterm,final,fullTime)\n",
    "\n",
    "        print(\"\\nNAME\\tGRADE\\tSTATUS\")\n",
    "        print(st)\n",
    "\n",
    "main()"
   ]
  },
  {
   "cell_type": "code",
   "execution_count": 15,
   "metadata": {},
   "outputs": [
    {
     "name": "stdout",
     "output_type": "stream",
     "text": [
      "\n",
      "NAME\tGRADE\n",
      "Alice\tPass\tFull-time student\n"
     ]
    }
   ],
   "source": [
    "def main():\n",
    "    listOfStudents = obtainListOfStudents()\n",
    "    displayResults(listOfStudents)\n",
    "\n",
    "def obtainListOfStudents():\n",
    "    listOfStudents = []\n",
    "    carryOn = 'Y'\n",
    "    while carryOn == 'Y':\n",
    "        name = input(\"Enter student`s name: \")\n",
    "        midterm = float(input(\"Enter grade on midterm: \"))\n",
    "        final = float(input(\"Enter grade on final: \"))\n",
    "        category = input(\"Enter category (LG or PF): \")\n",
    "        if category.upper() == \"LG\":\n",
    "            st = student.LGstudent(name,midterm,final)\n",
    "        else:\n",
    "            st = PFstudent(name,midterm,final)\n",
    "        listOfStudents.append(st)\n",
    "        carryOn = input(\"Do you want to continue (Y/N)? \")\n",
    "        carryOn = carryOn.upper()\n",
    "    return listOfStudents\n",
    "\n",
    "def displayResults(listOfStudents):\n",
    "    print(\"\\nNAME\\tGRADE\")\n",
    "    listOfStudents.sort(key = lambda x: x.getName())\n",
    "    for pupil in listOfStudents:\n",
    "        print(pupil)\n",
    "\n",
    "main()"
   ]
  },
  {
   "cell_type": "code",
   "execution_count": 11,
   "metadata": {},
   "outputs": [
    {
     "ename": "TypeError",
     "evalue": "GCD() takes 2 positional arguments but 3 were given",
     "output_type": "error",
     "traceback": [
      "\u001b[1;31m---------------------------------------------------------------------------\u001b[0m",
      "\u001b[1;31mTypeError\u001b[0m                                 Traceback (most recent call last)",
      "\u001b[1;32m~\\AppData\\Local\\Temp\\ipykernel_2864\\4283553118.py\u001b[0m in \u001b[0;36m<module>\u001b[1;34m\u001b[0m\n\u001b[0;32m      6\u001b[0m \u001b[1;31m# denominator = int(input(\"Enter denominator of fraction: \"))\u001b[0m\u001b[1;33m\u001b[0m\u001b[1;33m\u001b[0m\u001b[0m\n\u001b[0;32m      7\u001b[0m \u001b[1;31m# f.setDenominator(denominator)\u001b[0m\u001b[1;33m\u001b[0m\u001b[1;33m\u001b[0m\u001b[0m\n\u001b[1;32m----> 8\u001b[1;33m \u001b[0mf\u001b[0m\u001b[1;33m.\u001b[0m\u001b[0mreduce\u001b[0m\u001b[1;33m(\u001b[0m\u001b[1;33m)\u001b[0m\u001b[1;33m\u001b[0m\u001b[1;33m\u001b[0m\u001b[0m\n\u001b[0m\u001b[0;32m      9\u001b[0m \u001b[1;33m\u001b[0m\u001b[0m\n\u001b[0;32m     10\u001b[0m \u001b[0mmsg\u001b[0m \u001b[1;33m=\u001b[0m \u001b[1;34m\"Reduction to lowest terms:\"\u001b[0m\u001b[1;33m\u001b[0m\u001b[1;33m\u001b[0m\u001b[0m\n",
      "\u001b[1;32mc:\\Users\\user\\Desktop\\수업자료\\AI 프로그래밍\\1220\\fraction.py\u001b[0m in \u001b[0;36mreduce\u001b[1;34m(self)\u001b[0m\n\u001b[0;32m     26\u001b[0m         \u001b[1;32mreturn\u001b[0m \u001b[0mm\u001b[0m\u001b[1;33m\u001b[0m\u001b[1;33m\u001b[0m\u001b[0m\n\u001b[0;32m     27\u001b[0m \u001b[1;33m\u001b[0m\u001b[0m\n\u001b[1;32m---> 28\u001b[1;33m     \u001b[1;32mdef\u001b[0m \u001b[0mreduce\u001b[0m\u001b[1;33m(\u001b[0m\u001b[0mself\u001b[0m\u001b[1;33m)\u001b[0m\u001b[1;33m:\u001b[0m\u001b[1;33m\u001b[0m\u001b[1;33m\u001b[0m\u001b[0m\n\u001b[0m\u001b[0;32m     29\u001b[0m         \u001b[0mgcd\u001b[0m \u001b[1;33m=\u001b[0m \u001b[0mself\u001b[0m\u001b[1;33m.\u001b[0m\u001b[0mGCD\u001b[0m\u001b[1;33m(\u001b[0m\u001b[0mself\u001b[0m\u001b[1;33m.\u001b[0m\u001b[0m_numerator\u001b[0m\u001b[1;33m,\u001b[0m \u001b[0mself\u001b[0m\u001b[1;33m.\u001b[0m\u001b[0m_denominator\u001b[0m\u001b[1;33m)\u001b[0m\u001b[1;33m\u001b[0m\u001b[1;33m\u001b[0m\u001b[0m\n\u001b[0;32m     30\u001b[0m         \u001b[0mself\u001b[0m\u001b[1;33m.\u001b[0m\u001b[0m_numerator\u001b[0m \u001b[1;33m=\u001b[0m \u001b[0mself\u001b[0m\u001b[1;33m.\u001b[0m\u001b[0m_numerator\u001b[0m \u001b[1;33m//\u001b[0m \u001b[0mgcd\u001b[0m\u001b[1;33m\u001b[0m\u001b[1;33m\u001b[0m\u001b[0m\n",
      "\u001b[1;31mTypeError\u001b[0m: GCD() takes 2 positional arguments but 3 were given"
     ]
    }
   ],
   "source": [
    "import fraction\n",
    "\n",
    "f = fraction.Fraction(15,10)\n",
    "\n",
    "f.reduce()\n",
    "\n",
    "msg = \"Reduction to lowest terms:\"\n",
    "if f.getDenominator() != 1:\n",
    "    print(msg, str(f.getNumerator()) + '/' + str(f.getDenominator()))\n",
    "else:\n",
    "    print(msg, f.getNumerator())\n",
    "\n"
   ]
  }
 ],
 "metadata": {
  "kernelspec": {
   "display_name": "base",
   "language": "python",
   "name": "python3"
  },
  "language_info": {
   "codemirror_mode": {
    "name": "ipython",
    "version": 3
   },
   "file_extension": ".py",
   "mimetype": "text/x-python",
   "name": "python",
   "nbconvert_exporter": "python",
   "pygments_lexer": "ipython3",
   "version": "3.9.13 (main, Aug 25 2022, 23:51:50) [MSC v.1916 64 bit (AMD64)]"
  },
  "orig_nbformat": 4,
  "vscode": {
   "interpreter": {
    "hash": "ad2bdc8ecc057115af97d19610ffacc2b4e99fae6737bb82f5d7fb13d2f2c186"
   }
  }
 },
 "nbformat": 4,
 "nbformat_minor": 2
}
