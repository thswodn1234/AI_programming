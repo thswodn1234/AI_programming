{
 "cells": [
  {
   "attachments": {},
   "cell_type": "markdown",
   "metadata": {},
   "source": [
    "Homework #6"
   ]
  },
  {
   "attachments": {},
   "cell_type": "markdown",
   "metadata": {},
   "source": [
    "Exercises 1\n",
    "a) Make an array a of size 6´4 where every element is a 2.\n"
   ]
  },
  {
   "cell_type": "code",
   "execution_count": 1,
   "metadata": {},
   "outputs": [
    {
     "data": {
      "text/plain": [
       "array([[2., 2., 2., 2.],\n",
       "       [2., 2., 2., 2.],\n",
       "       [2., 2., 2., 2.],\n",
       "       [2., 2., 2., 2.],\n",
       "       [2., 2., 2., 2.],\n",
       "       [2., 2., 2., 2.]])"
      ]
     },
     "execution_count": 1,
     "metadata": {},
     "output_type": "execute_result"
    }
   ],
   "source": [
    "# a\n",
    "import numpy as np\n",
    "a = np.ones((6,4))\n",
    "a = a+1\n",
    "a"
   ]
  },
  {
   "attachments": {},
   "cell_type": "markdown",
   "metadata": {},
   "source": [
    "b) Make an array b of size 6´4 that has 3 on the leading diagonal and 1\n",
    "everywhere else. (Do not use loops.)\n",
    "\n"
   ]
  },
  {
   "cell_type": "code",
   "execution_count": 13,
   "metadata": {},
   "outputs": [
    {
     "data": {
      "text/plain": [
       "array([[3., 1., 1., 1.],\n",
       "       [1., 3., 1., 1.],\n",
       "       [1., 1., 3., 1.],\n",
       "       [1., 1., 1., 3.],\n",
       "       [1., 1., 1., 1.],\n",
       "       [1., 1., 1., 1.]])"
      ]
     },
     "execution_count": 13,
     "metadata": {},
     "output_type": "execute_result"
    }
   ],
   "source": [
    "b = np.eye(6,4) * 2\n",
    "b = b + 1\n",
    "b"
   ]
  },
  {
   "attachments": {},
   "cell_type": "markdown",
   "metadata": {},
   "source": [
    "c) Can you multiply these two arrays together? Then, explain why a * b\n",
    "works, but dot(a, b) does not.\n"
   ]
  },
  {
   "cell_type": "code",
   "execution_count": 15,
   "metadata": {},
   "outputs": [
    {
     "data": {
      "text/plain": [
       "array([[6., 2., 2., 2.],\n",
       "       [2., 6., 2., 2.],\n",
       "       [2., 2., 6., 2.],\n",
       "       [2., 2., 2., 6.],\n",
       "       [2., 2., 2., 2.],\n",
       "       [2., 2., 2., 2.]])"
      ]
     },
     "execution_count": 15,
     "metadata": {},
     "output_type": "execute_result"
    }
   ],
   "source": [
    "c = a*b\n",
    "c"
   ]
  },
  {
   "attachments": {},
   "cell_type": "markdown",
   "metadata": {},
   "source": [
    "Compute dot(a.transpose(), b) and dot(a, b.transpose()). Explain why the results are in different shapes?"
   ]
  },
  {
   "cell_type": "code",
   "execution_count": 18,
   "metadata": {},
   "outputs": [
    {
     "name": "stdout",
     "output_type": "stream",
     "text": [
      "[[16. 16. 16. 16.]\n",
      " [16. 16. 16. 16.]\n",
      " [16. 16. 16. 16.]\n",
      " [16. 16. 16. 16.]]\n",
      "[[12. 12. 12. 12.  8.  8.]\n",
      " [12. 12. 12. 12.  8.  8.]\n",
      " [12. 12. 12. 12.  8.  8.]\n",
      " [12. 12. 12. 12.  8.  8.]\n",
      " [12. 12. 12. 12.  8.  8.]\n",
      " [12. 12. 12. 12.  8.  8.]]\n"
     ]
    }
   ],
   "source": [
    "d1 = np.dot(a.transpose(),b)\n",
    "print(d1)\n",
    "d2 = np.dot(a,b.transpose())\n",
    "print(d2)"
   ]
  },
  {
   "attachments": {},
   "cell_type": "markdown",
   "metadata": {},
   "source": [
    "Exercises 2\n",
    "We have some data about House prices and parameters that affect the price."
   ]
  },
  {
   "attachments": {},
   "cell_type": "markdown",
   "metadata": {},
   "source": [
    "a) Make an array X that has the same data as the above table (shape of X:\n",
    "(4, 6)). Check whether the shape of X is (4, 6) by using assert() function.\n",
    "\n",
    "(Note: assert(cond)gives an error if cond is not True.)"
   ]
  },
  {
   "cell_type": "code",
   "execution_count": 3,
   "metadata": {},
   "outputs": [
    {
     "name": "stdout",
     "output_type": "stream",
     "text": [
      "(4, 6)\n"
     ]
    }
   ],
   "source": [
    "X = np.array([[1,2104,5,1,45,460],[1,1416,3,2,40,232],[1,1544,3,2,30,315],[1,852,2,1,36,178]])\n",
    "\n",
    "assert np.shape(X) == (4, 6), \"the shape of X is not (4, 6)\"\n",
    "print(np.shape(X))"
   ]
  },
  {
   "attachments": {},
   "cell_type": "markdown",
   "metadata": {},
   "source": [
    "Then, extract 4 parameters (size, # of bedrooms, floors, age of house) from\n",
    "X \n",
    "\n",
    "and put them into a new matrix P. Check if the shape of P is (4, 4) by\n",
    "using assert() function."
   ]
  },
  {
   "cell_type": "code",
   "execution_count": 40,
   "metadata": {},
   "outputs": [
    {
     "name": "stdout",
     "output_type": "stream",
     "text": [
      "[2104 1416 1544  852]\n",
      "[5 3 3 2]\n",
      "[1 2 2 1]\n",
      "[45 40 30 36]\n"
     ]
    },
    {
     "data": {
      "text/plain": [
       "(4, 4)"
      ]
     },
     "execution_count": 40,
     "metadata": {},
     "output_type": "execute_result"
    }
   ],
   "source": [
    "print(X[:,1])\n",
    "print(X[:,2])\n",
    "print(X[:,3])\n",
    "print(X[:,4])\n",
    "\n",
    "P = np.vstack([X[:,1],X[:,2],X[:,3],X[:,4]])\n",
    "np.shape(P)\n"
   ]
  },
  {
   "attachments": {},
   "cell_type": "markdown",
   "metadata": {},
   "source": [
    "c) Find the mean value of each parameter using the numpy mean function."
   ]
  },
  {
   "cell_type": "code",
   "execution_count": 41,
   "metadata": {},
   "outputs": [
    {
     "name": "stdout",
     "output_type": "stream",
     "text": [
      "1479.0\n",
      "3.25\n",
      "1.5\n",
      "37.75\n"
     ]
    }
   ],
   "source": [
    "print(P[0].mean())\n",
    "print(P[1].mean())\n",
    "print(P[2].mean())\n",
    "print(P[3].mean())"
   ]
  },
  {
   "attachments": {},
   "cell_type": "markdown",
   "metadata": {},
   "source": [
    "Exercises 3"
   ]
  },
  {
   "attachments": {},
   "cell_type": "markdown",
   "metadata": {},
   "source": [
    "a) Create a 4´4 array a using np.ones, another 4´4 array b using np.eye, and a\n",
    "list c that have 4 elements each of which is a list of 4 numbers. Now,\n",
    "execute sum_ = a + b and sub = a – c and then calculate the mean of\n",
    "sum_. (Note: We use the variable name sum_ because sum is the name of a\n",
    "python library function.)"
   ]
  },
  {
   "cell_type": "code",
   "execution_count": 19,
   "metadata": {},
   "outputs": [
    {
     "name": "stdout",
     "output_type": "stream",
     "text": [
      "[[2. 1. 1. 1.]\n",
      " [1. 2. 1. 1.]\n",
      " [1. 1. 2. 1.]\n",
      " [1. 1. 1. 2.]]\n",
      "[[0. 0. 0. 0.]\n",
      " [0. 0. 0. 0.]\n",
      " [0. 0. 0. 0.]\n",
      " [0. 0. 0. 0.]]\n",
      "1.25\n"
     ]
    }
   ],
   "source": [
    "a = np.ones((4,4))\n",
    "b = np.eye(4,4)\n",
    "c = [[1,1,1,1],[1,1,1,1],[1,1,1,1],[1,1,1,1]]\n",
    "sum_ = a + b\n",
    "print(sum_)\n",
    "sub = a - c\n",
    "print(sub)\n",
    "\n",
    "print(sum_.mean())"
   ]
  },
  {
   "attachments": {},
   "cell_type": "markdown",
   "metadata": {},
   "source": [
    "b) Define a function findOne that receives an array and counts the number of\n",
    "ones in it. Make a 5´5 array of random integers and count the number of\n",
    "ones in it using findOne. Do the same thing using the 'where()' function of\n",
    "NumPy. (Note: Use help(np.where) to find out how to use it.)\n"
   ]
  },
  {
   "cell_type": "code",
   "execution_count": 68,
   "metadata": {},
   "outputs": [
    {
     "name": "stdout",
     "output_type": "stream",
     "text": [
      "[[3 8 0 2 3]\n",
      " [4 0 6 9 9]\n",
      " [2 8 2 6 6]\n",
      " [1 1 9 0 0]\n",
      " [8 0 5 5 4]]\n",
      "<class 'numpy.ndarray'>\n",
      "2\n"
     ]
    }
   ],
   "source": [
    "a = np.random.randint(0, 10, size=(5,5))\n",
    "print(a)\n",
    "\n",
    "def findOne(array):\n",
    "    cnt = 0\n",
    "    for i in range(len(array)):\n",
    "        cnt += list(array[i]).count(1)\n",
    "        \n",
    "    print(cnt)\n",
    "\n",
    "findOne(a)"
   ]
  },
  {
   "attachments": {},
   "cell_type": "markdown",
   "metadata": {},
   "source": [
    "Exercises 4"
   ]
  },
  {
   "attachments": {},
   "cell_type": "markdown",
   "metadata": {},
   "source": [
    "a) Plot the sigmoid function σ(x) = 1 / (1 + e\n",
    "–x) using np.arange(-2, 2, 0.01)."
   ]
  },
  {
   "cell_type": "code",
   "execution_count": 69,
   "metadata": {},
   "outputs": [
    {
     "data": {
      "image/png": "[encoded data removed]",
      "text/plain": [
       "<Figure size 640x480 with 1 Axes>"
      ]
     },
     "metadata": {},
     "output_type": "display_data"
    }
   ],
   "source": [
    "import matplotlib.pyplot as plt\n",
    "\n",
    "sigmoid = lambda x: 1/(np.exp(-x) +1) \n",
    "\n",
    "x = np.arange(-2, 2, 0.01)\n",
    "y = sigmoid(x)\n",
    "\n",
    "plt.plot(x, y)\n",
    "plt.xlabel('x values')\n",
    "plt.ylabel('1/(np.exp(-x) +1)')\n",
    "plt.title('sigmoid function ')\n",
    "plt.grid()\n",
    "plt.show()"
   ]
  },
  {
   "attachments": {},
   "cell_type": "markdown",
   "metadata": {},
   "source": [
    "b) You are given some experimental result data recorded in two text files\n",
    "“tError.txt” and “vError.txt”, where there is one float number in\n",
    "each line. Plot both data on a single graph. The horizontal and vertical axes\n",
    "represent ‘model complexity’ and ‘error rate’, respectively."
   ]
  },
  {
   "cell_type": "code",
   "execution_count": 3,
   "metadata": {},
   "outputs": [
    {
     "name": "stdout",
     "output_type": "stream",
     "text": [
      "5040\n"
     ]
    }
   ],
   "source": [
    "import math \n",
    "print(math.factorial(7))"
   ]
  }
 ],
 "metadata": {
  "kernelspec": {
   "display_name": "base",
   "language": "python",
   "name": "python3"
  },
  "language_info": {
   "codemirror_mode": {
    "name": "ipython",
    "version": 3
   },
   "file_extension": ".py",
   "mimetype": "text/x-python",
   "name": "python",
   "nbconvert_exporter": "python",
   "pygments_lexer": "ipython3",
   "version": "3.9.13"
  },
  "orig_nbformat": 4,
  "vscode": {
   "interpreter": {
    "hash": "ad2bdc8ecc057115af97d19610ffacc2b4e99fae6737bb82f5d7fb13d2f2c186"
   }
  }
 },
 "nbformat": 4,
 "nbformat_minor": 2
}
