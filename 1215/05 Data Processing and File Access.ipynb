{
 "cells": [
  {
   "attachments": {},
   "cell_type": "markdown",
   "metadata": {},
   "source": [
    "# 05 Data Processing and File Access"
   ]
  },
  {
   "cell_type": "code",
   "execution_count": 1,
   "metadata": {},
   "outputs": [
    {
     "name": "stdout",
     "output_type": "stream",
     "text": [
      "George Washington\n",
      "John Adams\n",
      "Thomas Jefferson\n",
      "\n",
      "['George Washington', 'John Adams', 'Thomas Jefferson']\n",
      "\n",
      "George Washington\n"
     ]
    },
    {
     "ename": "AttributeError",
     "evalue": "'builtin_function_or_method' object has no attribute 'rstrip'",
     "output_type": "error",
     "traceback": [
      "\u001b[1;31m---------------------------------------------------------------------------\u001b[0m",
      "\u001b[1;31mAttributeError\u001b[0m                            Traceback (most recent call last)",
      "\u001b[1;32m~\\AppData\\Local\\Temp\\ipykernel_5456\\2342910143.py\u001b[0m in \u001b[0;36m<module>\u001b[1;34m\u001b[0m\n\u001b[0;32m     27\u001b[0m     \u001b[0minfile\u001b[0m\u001b[1;33m.\u001b[0m\u001b[0mclose\u001b[0m\u001b[1;33m(\u001b[0m\u001b[1;33m)\u001b[0m\u001b[1;33m\u001b[0m\u001b[1;33m\u001b[0m\u001b[0m\n\u001b[0;32m     28\u001b[0m \u001b[1;33m\u001b[0m\u001b[0m\n\u001b[1;32m---> 29\u001b[1;33m \u001b[0mmain\u001b[0m\u001b[1;33m(\u001b[0m\u001b[1;33m)\u001b[0m\u001b[1;33m\u001b[0m\u001b[1;33m\u001b[0m\u001b[0m\n\u001b[0m",
      "\u001b[1;32m~\\AppData\\Local\\Temp\\ipykernel_5456\\2342910143.py\u001b[0m in \u001b[0;36mmain\u001b[1;34m()\u001b[0m\n\u001b[0;32m      5\u001b[0m     \u001b[0mdisplayWithListComprehension\u001b[0m\u001b[1;33m(\u001b[0m\u001b[0mfile\u001b[0m\u001b[1;33m)\u001b[0m\u001b[1;33m\u001b[0m\u001b[1;33m\u001b[0m\u001b[0m\n\u001b[0;32m      6\u001b[0m     \u001b[0mprint\u001b[0m\u001b[1;33m(\u001b[0m\u001b[1;33m)\u001b[0m\u001b[1;33m\u001b[0m\u001b[1;33m\u001b[0m\u001b[0m\n\u001b[1;32m----> 7\u001b[1;33m     \u001b[0mdisplayWithReadline\u001b[0m\u001b[1;33m(\u001b[0m\u001b[0mfile\u001b[0m\u001b[1;33m)\u001b[0m\u001b[1;33m\u001b[0m\u001b[1;33m\u001b[0m\u001b[0m\n\u001b[0m\u001b[0;32m      8\u001b[0m \u001b[1;33m\u001b[0m\u001b[0m\n\u001b[0;32m      9\u001b[0m \u001b[1;32mdef\u001b[0m \u001b[0mdisplayWithForLoop\u001b[0m\u001b[1;33m(\u001b[0m\u001b[0mfile\u001b[0m\u001b[1;33m)\u001b[0m\u001b[1;33m:\u001b[0m\u001b[1;33m\u001b[0m\u001b[1;33m\u001b[0m\u001b[0m\n",
      "\u001b[1;32m~\\AppData\\Local\\Temp\\ipykernel_5456\\2342910143.py\u001b[0m in \u001b[0;36mdisplayWithReadline\u001b[1;34m(file)\u001b[0m\n\u001b[0;32m     23\u001b[0m     \u001b[0mline\u001b[0m \u001b[1;33m=\u001b[0m \u001b[0minfile\u001b[0m\u001b[1;33m.\u001b[0m\u001b[0mreadline\u001b[0m\u001b[1;33m(\u001b[0m\u001b[1;33m)\u001b[0m\u001b[1;33m\u001b[0m\u001b[1;33m\u001b[0m\u001b[0m\n\u001b[0;32m     24\u001b[0m     \u001b[1;32mwhile\u001b[0m \u001b[0mline\u001b[0m \u001b[1;33m!=\u001b[0m \u001b[1;34m\" \"\u001b[0m\u001b[1;33m:\u001b[0m\u001b[1;33m\u001b[0m\u001b[1;33m\u001b[0m\u001b[0m\n\u001b[1;32m---> 25\u001b[1;33m         \u001b[0mprint\u001b[0m\u001b[1;33m(\u001b[0m\u001b[0mline\u001b[0m\u001b[1;33m.\u001b[0m\u001b[0mrstrip\u001b[0m\u001b[1;33m(\u001b[0m\u001b[1;33m)\u001b[0m\u001b[1;33m)\u001b[0m\u001b[1;33m\u001b[0m\u001b[1;33m\u001b[0m\u001b[0m\n\u001b[0m\u001b[0;32m     26\u001b[0m         \u001b[0mline\u001b[0m \u001b[1;33m=\u001b[0m \u001b[0minfile\u001b[0m\u001b[1;33m.\u001b[0m\u001b[0mreadline\u001b[0m\u001b[1;33m\u001b[0m\u001b[1;33m\u001b[0m\u001b[0m\n\u001b[0;32m     27\u001b[0m     \u001b[0minfile\u001b[0m\u001b[1;33m.\u001b[0m\u001b[0mclose\u001b[0m\u001b[1;33m(\u001b[0m\u001b[1;33m)\u001b[0m\u001b[1;33m\u001b[0m\u001b[1;33m\u001b[0m\u001b[0m\n",
      "\u001b[1;31mAttributeError\u001b[0m: 'builtin_function_or_method' object has no attribute 'rstrip'"
     ]
    }
   ],
   "source": [
    "def main():\n",
    "    file = \"FirstPresidents.txt\"\n",
    "    displayWithForLoop(file)\n",
    "    print()\n",
    "    displayWithListComprehension(file)\n",
    "    print()\n",
    "    displayWithReadline(file)\n",
    "\n",
    "def displayWithForLoop(file):\n",
    "    infile = open(file, 'r')\n",
    "    for line in infile:\n",
    "        print(line.rstrip())\n",
    "    infile.close()\n",
    "\n",
    "def displayWithListComprehension(file):\n",
    "    infile = open(file,'r')\n",
    "    listPres = [line.rstrip() for line in infile]\n",
    "    infile.close()\n",
    "    print(listPres)\n",
    "\n",
    "def displayWithReadline(file):\n",
    "    infile = open(file, \"r\")\n",
    "    line = infile.readline()\n",
    "    while line != \" \":\n",
    "        print(line.rstrip())\n",
    "        line = infile.readline\n",
    "    infile.close()\n",
    "\n",
    "main()"
   ]
  },
  {
   "cell_type": "code",
   "execution_count": 7,
   "metadata": {},
   "outputs": [],
   "source": [
    "def main():\n",
    "    L = [\"George Washingtom\", \"John Adams\", \"Thomas Jefferson\"]\n",
    "    outfile = open(\"./AIP_05_Data Processing and File Access_data/FirstPresidents2.txt\", 'w')\n",
    "    createWithWrite(L,outfile)\n",
    "    outfile = open(\"./AIP_05_Data Processing and File Access_data/FirstPresidents3.txt\", 'w')\n",
    "    createWithWritelines(L,outfile)\n",
    "\n",
    "def createWithWrite(L,outfile):\n",
    "    for i in range(len(L)):\n",
    "        outfile.write(L[i] + \"\\n\")\n",
    "    outfile.close()\n",
    "\n",
    "def createWithWritelines(L,outfile):\n",
    "    for i in range(len(L)):\n",
    "        L[i] = L[i] + \"\\n\"\n",
    "    \n",
    "    outfile.writelines(L)\n",
    "    outfile.close()\n",
    "\n",
    "main()\n"
   ]
  },
  {
   "cell_type": "code",
   "execution_count": null,
   "metadata": {},
   "outputs": [],
   "source": [
    "def main():\n",
    "    "
   ]
  },
  {
   "attachments": {},
   "cell_type": "markdown",
   "metadata": {},
   "source": [
    "## Altering Items in a Text File"
   ]
  },
  {
   "cell_type": "code",
   "execution_count": 5,
   "metadata": {},
   "outputs": [
    {
     "name": "stdout",
     "output_type": "stream",
     "text": [
      "File already exists.\n"
     ]
    }
   ],
   "source": [
    "import os.path\n",
    "\n",
    "if os.path.isfile(\"ABC.txt\"):\n",
    "    print(\"File already exists.\")\n",
    "else:\n",
    "    infile = open(\"ABC.txt\",\"w\")\n",
    "    infile.write(\"a\\nb\\nc\\n\")\n",
    "    infile.close()"
   ]
  },
  {
   "attachments": {},
   "cell_type": "markdown",
   "metadata": {},
   "source": [
    "## Sets"
   ]
  },
  {
   "cell_type": "code",
   "execution_count": 34,
   "metadata": {},
   "outputs": [
    {
     "data": {
      "text/plain": [
       "True"
      ]
     },
     "execution_count": 34,
     "metadata": {},
     "output_type": "execute_result"
    }
   ],
   "source": [
    "bri = {'brazil', 'russia', 'india'}\n",
    "'india' in bri"
   ]
  },
  {
   "cell_type": "code",
   "execution_count": 35,
   "metadata": {},
   "outputs": [
    {
     "data": {
      "text/plain": [
       "False"
      ]
     },
     "execution_count": 35,
     "metadata": {},
     "output_type": "execute_result"
    }
   ],
   "source": [
    "'usa' in bri"
   ]
  },
  {
   "cell_type": "code",
   "execution_count": 39,
   "metadata": {},
   "outputs": [
    {
     "data": {
      "text/plain": [
       "{'brazil', 'india', 'russia'}"
      ]
     },
     "execution_count": 39,
     "metadata": {},
     "output_type": "execute_result"
    }
   ],
   "source": [
    "bric = bri.copy()\n",
    "bric\n"
   ]
  },
  {
   "cell_type": "code",
   "execution_count": 40,
   "metadata": {},
   "outputs": [
    {
     "data": {
      "text/plain": [
       "{'brazil', 'china', 'india', 'russia'}"
      ]
     },
     "execution_count": 40,
     "metadata": {},
     "output_type": "execute_result"
    }
   ],
   "source": [
    "bric.add('china')\n",
    "bric"
   ]
  },
  {
   "cell_type": "code",
   "execution_count": 41,
   "metadata": {},
   "outputs": [
    {
     "data": {
      "text/plain": [
       "{'brazil', 'india'}"
      ]
     },
     "execution_count": 41,
     "metadata": {},
     "output_type": "execute_result"
    }
   ],
   "source": [
    "bri.remove('russia')\n",
    "bri"
   ]
  },
  {
   "cell_type": "code",
   "execution_count": 42,
   "metadata": {},
   "outputs": [
    {
     "data": {
      "text/plain": [
       "{'brazil', 'china', 'india', 'russia'}"
      ]
     },
     "execution_count": 42,
     "metadata": {},
     "output_type": "execute_result"
    }
   ],
   "source": [
    "bric"
   ]
  },
  {
   "cell_type": "code",
   "execution_count": 43,
   "metadata": {},
   "outputs": [
    {
     "data": {
      "text/plain": [
       "True"
      ]
     },
     "execution_count": 43,
     "metadata": {},
     "output_type": "execute_result"
    }
   ],
   "source": [
    "bric.issuperset(bri)"
   ]
  },
  {
   "cell_type": "code",
   "execution_count": 44,
   "metadata": {},
   "outputs": [
    {
     "data": {
      "text/plain": [
       "{'brazil', 'india'}"
      ]
     },
     "execution_count": 44,
     "metadata": {},
     "output_type": "execute_result"
    }
   ],
   "source": [
    "bri & bric"
   ]
  },
  {
   "cell_type": "code",
   "execution_count": 46,
   "metadata": {},
   "outputs": [
    {
     "data": {
      "text/plain": [
       "{'china', 'russia'}"
      ]
     },
     "execution_count": 46,
     "metadata": {},
     "output_type": "execute_result"
    }
   ],
   "source": [
    "bric.difference(bri)\n"
   ]
  },
  {
   "cell_type": "code",
   "execution_count": 47,
   "metadata": {},
   "outputs": [
    {
     "data": {
      "text/plain": [
       "{'brazil', 'china', 'india', 'russia'}"
      ]
     },
     "execution_count": 47,
     "metadata": {},
     "output_type": "execute_result"
    }
   ],
   "source": [
    "bric.union(bri)"
   ]
  },
  {
   "cell_type": "code",
   "execution_count": 48,
   "metadata": {},
   "outputs": [
    {
     "data": {
      "text/plain": [
       "('nudge', 'nudge', 'wink', 'wink')"
      ]
     },
     "execution_count": 48,
     "metadata": {},
     "output_type": "execute_result"
    }
   ],
   "source": [
    "words = ['nudge', 'nudge', 'wink','wink']\n",
    "tuple(words)\n"
   ]
  },
  {
   "cell_type": "code",
   "execution_count": 50,
   "metadata": {},
   "outputs": [
    {
     "name": "stdout",
     "output_type": "stream",
     "text": [
      "{'nudge', 'wink'}\n"
     ]
    }
   ],
   "source": [
    "terms = set(words)\n",
    "print(terms)"
   ]
  },
  {
   "cell_type": "code",
   "execution_count": 51,
   "metadata": {},
   "outputs": [
    {
     "data": {
      "text/plain": [
       "['nudge', 'wink']"
      ]
     },
     "execution_count": 51,
     "metadata": {},
     "output_type": "execute_result"
    }
   ],
   "source": [
    "list(terms)"
   ]
  },
  {
   "cell_type": "code",
   "execution_count": 52,
   "metadata": {},
   "outputs": [
    {
     "data": {
      "text/plain": [
       "('nudge', 'wink')"
      ]
     },
     "execution_count": 52,
     "metadata": {},
     "output_type": "execute_result"
    }
   ],
   "source": [
    "tuple(terms)"
   ]
  },
  {
   "cell_type": "code",
   "execution_count": 53,
   "metadata": {},
   "outputs": [],
   "source": [
    "alpha = ('a', 'b', 'c')\n"
   ]
  },
  {
   "cell_type": "code",
   "execution_count": 54,
   "metadata": {},
   "outputs": [
    {
     "data": {
      "text/plain": [
       "{'a', 'b', 'c'}"
      ]
     },
     "execution_count": 54,
     "metadata": {},
     "output_type": "execute_result"
    }
   ],
   "source": [
    "set(alpha)"
   ]
  },
  {
   "cell_type": "code",
   "execution_count": 55,
   "metadata": {},
   "outputs": [],
   "source": [
    "terms.clear()"
   ]
  },
  {
   "cell_type": "code",
   "execution_count": 56,
   "metadata": {},
   "outputs": [
    {
     "data": {
      "text/plain": [
       "set()"
      ]
     },
     "execution_count": 56,
     "metadata": {},
     "output_type": "execute_result"
    }
   ],
   "source": [
    "terms"
   ]
  },
  {
   "cell_type": "code",
   "execution_count": 57,
   "metadata": {},
   "outputs": [
    {
     "data": {
      "text/plain": [
       "{'brazil', 'china', 'india', 'russia'}"
      ]
     },
     "execution_count": 57,
     "metadata": {},
     "output_type": "execute_result"
    }
   ],
   "source": [
    "bric = {'brazil', 'china', 'india', 'russia'}\n",
    "bric"
   ]
  },
  {
   "cell_type": "code",
   "execution_count": 58,
   "metadata": {},
   "outputs": [
    {
     "data": {
      "text/plain": [
       "['brazil', 'china', 'india', 'russia']"
      ]
     },
     "execution_count": 58,
     "metadata": {},
     "output_type": "execute_result"
    }
   ],
   "source": [
    "sorted(bric)"
   ]
  },
  {
   "cell_type": "code",
   "execution_count": 59,
   "metadata": {},
   "outputs": [
    {
     "data": {
      "text/plain": [
       "['russia', 'brazil', 'india', 'china']"
      ]
     },
     "execution_count": 59,
     "metadata": {},
     "output_type": "execute_result"
    }
   ],
   "source": [
    "sorted(bric, key=len, reverse=True)"
   ]
  },
  {
   "cell_type": "code",
   "execution_count": 60,
   "metadata": {},
   "outputs": [
    {
     "data": {
      "text/plain": [
       "{'brazil', 'china', 'india', 'russia'}"
      ]
     },
     "execution_count": 60,
     "metadata": {},
     "output_type": "execute_result"
    }
   ],
   "source": [
    "bric"
   ]
  },
  {
   "attachments": {},
   "cell_type": "markdown",
   "metadata": {},
   "source": [
    "sort() : method     \n",
    "sorted : func"
   ]
  },
  {
   "cell_type": "code",
   "execution_count": 61,
   "metadata": {},
   "outputs": [
    {
     "data": {
      "text/plain": [
       "{0, 1, 4, 9}"
      ]
     },
     "execution_count": 61,
     "metadata": {},
     "output_type": "execute_result"
    }
   ],
   "source": [
    "{x * x for x in range(-3,3)}"
   ]
  },
  {
   "cell_type": "code",
   "execution_count": 65,
   "metadata": {},
   "outputs": [],
   "source": [
    "def main():\n",
    "    vicePreSet = createSetFromFile(\"VPres.txt\")\n",
    "    presSet = createSetFromFile(\"USPres.txt\")\n",
    "    bothPresAndVPresSet = createIntersection(vicePreSet, presSet)\n",
    "    writeNamesToFile(bothPresAndVPresSet, \"PresAndVPres.txt\" )\n",
    "\n",
    "def createSetFromFile(fileName):\n",
    "    infile = open(fileName, 'r')\n",
    "    namesSet = {name for name in infile}\n",
    "    infile.close()\n",
    "    return namesSet\n",
    "\n",
    "def createIntersection(set1, set2):\n",
    "    return set1.intersection(set2)\n",
    "\n",
    "def writeNamesToFile(setName, fileName):\n",
    "    outfile = open(fileName, 'w')\n",
    "    outfile.writelines(setName)\n",
    "    outfile.close()\n",
    "main()"
   ]
  },
  {
   "attachments": {},
   "cell_type": "markdown",
   "metadata": {},
   "source": [
    "## CSV Files"
   ]
  },
  {
   "cell_type": "code",
   "execution_count": 69,
   "metadata": {},
   "outputs": [
    {
     "name": "stdout",
     "output_type": "stream",
     "text": [
      "Afghanistan\n",
      "Armenia\n",
      "Azerbaijan\n",
      "Bahrain\n",
      "Bangladesh\n",
      "Bhutan\n",
      "Brunei Darussalam\n",
      "Cambodia\n",
      "China\n",
      "Cyprus\n",
      "Democratic People's Republic of Korea\n",
      "Georgia\n",
      "India\n",
      "Indonesia\n",
      "Iran\n",
      "Iraq\n",
      "Israel\n",
      "Japan\n",
      "Jordan\n",
      "Kazakhstan\n",
      "Kuwait\n",
      "Kyrgyzstan\n",
      "Lao People's Democratic Republic\n",
      "Lebanon\n",
      "Malaysia\n",
      "Maldives\n",
      "Mongolia\n",
      "Myanmar\n",
      "Nepal\n",
      "Oman\n",
      "Pakistan\n",
      "Philippines\n",
      "Qatar\n",
      "Republic of Korea\n",
      "Saudi Arabia\n",
      "Singapore\n",
      "Sri Lanka\n",
      "Syrian Arab Republic\n",
      "Tajikistan\n",
      "Thailand\n",
      "Timor-Leste\n",
      "Turkey\n",
      "Turkmenistan\n",
      "United Arab Emirates\n",
      "Uzbekistan\n",
      "Vietnam\n",
      "Yemen\n"
     ]
    }
   ],
   "source": [
    "def main():\n",
    "    continent = input(\"Enter the name of a continent: \")\n",
    "    continent = continent.title()\n",
    "    if continent != \"Antarctica\":\n",
    "        infile = open(\"UN.txt\", 'r')\n",
    "        for line in infile:\n",
    "            data = line.split(',')\n",
    "            if data[1] == continent:\n",
    "                print(data[0])\n",
    "    else:\n",
    "        print(\"There are no countries in Antarctica.\")\n",
    "\n",
    "main()"
   ]
  },
  {
   "cell_type": "code",
   "execution_count": 73,
   "metadata": {},
   "outputs": [
    {
     "name": "stdout",
     "output_type": "stream",
     "text": [
      "Country             Area (sq. mi.)\n",
      "Russian Federation   6,592,800\n",
      "Canada               3,855,000\n",
      "United States        3,794,066\n",
      "China                3,696,100\n",
      "Brazil               3,287,597\n"
     ]
    }
   ],
   "source": [
    "def main():\n",
    "    countries = placeRecordsIntoList(\"UN.txt\")\n",
    "    countries.sort(key=lambda country: country[3], reverse = True)\n",
    "    displayFiveLargestCountries(countries)\n",
    "    createNewFile(countries)\n",
    "\n",
    "def placeRecordsIntoList(fileName):\n",
    "    infile = open(fileName, 'r')\n",
    "    listOfRecords = [line.rstrip() for line in infile]\n",
    "    infile.close()\n",
    "    for i in range(len(listOfRecords)):\n",
    "        listOfRecords[i] = listOfRecords[i].split(',')\n",
    "        listOfRecords[i][2] = eval(listOfRecords[i][2])\n",
    "        listOfRecords[i][3] = eval(listOfRecords[i][3])\n",
    "    return listOfRecords\n",
    "\n",
    "def displayFiveLargestCountries(countries):\n",
    "    print(\"{0:20}{1:9}\".format(\"Country\", \"Area (sq. mi.)\"))\n",
    "    for i in range(5):\n",
    "        print(\"{0:20} {1:9,d}\".format(countries[i][0], countries[i][3]))\n",
    "\n",
    "def createNewFile(countries):\n",
    "    outfile = open(\"UnbyArea.txt\", 'w')\n",
    "    for country in countries:\n",
    "        outfile.write(country[0] + ',' + str(country[3]) + \"\\n\")\n",
    "\n",
    "    outfile.close()\n",
    "main()\n",
    "\n"
   ]
  },
  {
   "cell_type": "code",
   "execution_count": 70,
   "metadata": {},
   "outputs": [
    {
     "data": {
      "text/plain": [
       "123"
      ]
     },
     "execution_count": 70,
     "metadata": {},
     "output_type": "execute_result"
    }
   ],
   "source": [
    "123\n"
   ]
  },
  {
   "cell_type": "code",
   "execution_count": 72,
   "metadata": {},
   "outputs": [
    {
     "data": {
      "text/plain": [
       "123"
      ]
     },
     "execution_count": 72,
     "metadata": {},
     "output_type": "execute_result"
    }
   ],
   "source": [
    "eval(\"123\")"
   ]
  },
  {
   "attachments": {},
   "cell_type": "markdown",
   "metadata": {},
   "source": [
    "## Dictionary"
   ]
  },
  {
   "cell_type": "code",
   "execution_count": 74,
   "metadata": {},
   "outputs": [
    {
     "data": {
      "text/plain": [
       "{'one': 1, 'two': 2, 'three': 3}"
      ]
     },
     "execution_count": 74,
     "metadata": {},
     "output_type": "execute_result"
    }
   ],
   "source": [
    "list1 = [[\"one\", 1], [\"two\",2], [\"three\",3]]\n",
    "dict(list1)\n"
   ]
  },
  {
   "cell_type": "code",
   "execution_count": 76,
   "metadata": {},
   "outputs": [
    {
     "data": {
      "text/plain": [
       "{'one': 1, 'two': 2, 'three': 3}"
      ]
     },
     "execution_count": 76,
     "metadata": {},
     "output_type": "execute_result"
    }
   ],
   "source": [
    "list2 = [(\"one\", 1), (\"two\",2), (\"three\",3)]\n",
    "dict(list2)"
   ]
  },
  {
   "cell_type": "code",
   "execution_count": 79,
   "metadata": {},
   "outputs": [
    {
     "data": {
      "text/plain": [
       "dict"
      ]
     },
     "execution_count": 79,
     "metadata": {},
     "output_type": "execute_result"
    }
   ],
   "source": [
    "a = {}\n",
    "a\n",
    "type(a)"
   ]
  },
  {
   "cell_type": "code",
   "execution_count": 82,
   "metadata": {},
   "outputs": [
    {
     "data": {
      "text/plain": [
       "set"
      ]
     },
     "execution_count": 82,
     "metadata": {},
     "output_type": "execute_result"
    }
   ],
   "source": [
    "x = set()\n",
    "x\n",
    "type(x)"
   ]
  },
  {
   "cell_type": "code",
   "execution_count": 83,
   "metadata": {},
   "outputs": [
    {
     "name": "stdout",
     "output_type": "stream",
     "text": [
      "Enter the person`s age group The admission fee is 0 dollars.\n"
     ]
    }
   ],
   "source": [
    "def main():\n",
    "    print(\"Enter the person`s age group \", end =\"\")\n",
    "    ageGroup = input(\"child, minor, adult, or senior) :\")\n",
    "    print(\"The admission fee is\", determineAdmissionFee(ageGroup), \"dollars.\")\n",
    "\n",
    "def determineAdmissionFee(ageGroup) :\n",
    "    if ageGroup == 'child':\n",
    "        return 0\n",
    "    elif ageGroup == 'minor':\n",
    "        return 5\n",
    "    elif ageGroup == \"adult\":\n",
    "        return 10\n",
    "    elif ageGroup == \"senior\":\n",
    "        return 8\n",
    "\n",
    "main()"
   ]
  },
  {
   "cell_type": "code",
   "execution_count": 84,
   "metadata": {},
   "outputs": [
    {
     "name": "stdout",
     "output_type": "stream",
     "text": [
      "Enter the person`s age group The admission fee is 10 dolloars.\n"
     ]
    }
   ],
   "source": [
    "def main():\n",
    "    print(\"Enter the person`s age group \", end=\"\")\n",
    "    ageGroup = input(\"(child, minor, adult, or senior) : \")\n",
    "    print(\"The admission fee is\", determineAdmissionFee(ageGroup), \"dolloars.\")\n",
    "\n",
    "def determineAdmissionFee(ageGroup):\n",
    "    dict = {\"child\":0,\"minor\":5,\"adult\":10,\"senior\":8}\n",
    "    return dict[ageGroup]\n",
    "\n",
    "main()"
   ]
  },
  {
   "cell_type": "code",
   "execution_count": null,
   "metadata": {},
   "outputs": [],
   "source": [
    "def main():\n",
    "    listOfWords = formListOfWords(\"Gettysburg.txt\")\n",
    "    freq = createFrequencyDictionary(listOfWords)\n",
    "    displayWordCount(listOfWords, freq)\n",
    "    displayMostCommonWords(freq)\n",
    "\n",
    "def formListOfWords(fileName):\n",
    "    infile = open(fileName)\n",
    "    originalLine = infile.readline().lower()\n",
    "\n",
    "    line =\"\"\n",
    "    for ch in originalLine:\n",
    "        if ('a' <= ch <= 'z') or (ch == \" \"):\n",
    "            line += ch\n",
    "    listOfWords = line.split()\n",
    "    return listOfWords\n",
    "\n",
    "def createFrequencyDictionary(listOfWords):\n",
    "    freq = {}\n",
    "    for word in listOfWords:\n",
    "        freq[word] = 0\n",
    "    for word in listOfWords:\n",
    "        freq[word] = freq[word] + 1\n",
    "    return freq\n",
    "\n",
    "def displayWordCount(listOfWords, freq):\n",
    "    print(\"The Gettysburg Address contains\", len(listOfWords), \"words.\")\n",
    "    print(\"The Gettysburg Address contains\", len(freq), \"different words.\")\n",
    "    print()\n",
    "\n",
    "def displayMostCommonWords(freq):\n",
    "    print(\"The most\")\n",
    "\n"
   ]
  },
  {
   "attachments": {},
   "cell_type": "markdown",
   "metadata": {},
   "source": [
    "## Storing Dictionaries in Binary Files"
   ]
  },
  {
   "cell_type": "code",
   "execution_count": 88,
   "metadata": {},
   "outputs": [
    {
     "name": "stdout",
     "output_type": "stream",
     "text": [
      "Enter the name of a continentRussian Federation : 142.50\n",
      "Germany : 81.00\n",
      "United Kingdom : 66.70\n",
      "France : 66.30\n",
      "Italy : 61.70\n",
      "Spain : 47.70\n",
      "Ukraine : 44.30\n",
      "Poland : 38.30\n",
      "Romania : 21.70\n",
      "Netherlands : 16.59\n",
      "Greece : 11.80\n",
      "Portugal : 10.90\n",
      "Czech Republic : 10.60\n",
      "Belgium : 10.40\n",
      "Hungary : 10.00\n",
      "Sweden : 9.70\n",
      "Belarus : 9.60\n",
      "Austria : 8.20\n",
      "Switzerland : 8.10\n",
      "Serbia : 7.20\n",
      "Bulgaria : 6.90\n",
      "Denmark : 5.60\n",
      "Slovakia : 5.40\n",
      "Finland : 5.30\n",
      "Norway : 5.10\n",
      "Ireland : 4.80\n",
      "Croatia : 4.50\n",
      "Bosnia and Herzegovina : 3.90\n",
      "Republic of Moldova : 3.60\n",
      "Lithuania : 3.50\n",
      "Albania : 3.00\n",
      "Latvia : 2.20\n",
      "The former Yugoslav Republic of Macedonia : 2.10\n",
      "Slovenia : 2.00\n",
      "Estonia : 1.30\n",
      "Montenegro : 0.65\n",
      "Luxembourg : 0.52\n",
      "Malta : 0.41\n",
      "Iceland : 0.32\n",
      "Andorra : 0.09\n",
      "Liechtenstein : 0.04\n",
      "San Marino : 0.03\n",
      "Monaco : 0.03\n"
     ]
    }
   ],
   "source": [
    "import pickle\n",
    "\n",
    "def main():\n",
    "    nations = getDictionary(\"UNdict.dat\")\n",
    "    print(\"Enter the name of a continent\", end='')\n",
    "    continent = input(\"other than Antarctica: \")\n",
    "    continentDict = constructContinentNations(nations,continent)\n",
    "\n",
    "    displaySortedResults(continentDict)\n",
    "\n",
    "def getDictionary(fileName):\n",
    "    infile = open(fileName, 'rb')\n",
    "    countries = pickle.load(infile)\n",
    "    infile.close()\n",
    "    return countries\n",
    "\n",
    "def constructContinentNations(nations,continent):\n",
    "    continentDict  = {}\n",
    "    for nation in nations:\n",
    "        if nations[nation][\"cont\"] == continent:\n",
    "            continentDict[nation] = nations[nation]\n",
    "    return continentDict\n",
    "\n",
    "def displaySortedResults(dictionaryName):\n",
    "    continentList = sorted(dictionaryName.items(), \n",
    "    key = lambda k: k[1][\"popl\"],reverse=True)\n",
    "    for k in continentList:\n",
    "        print(\"{0:s} : {1:,.2f}\".format(k[0],k[1][\"popl\"]))\n",
    "\n",
    "main()\n"
   ]
  },
  {
   "cell_type": "code",
   "execution_count": 90,
   "metadata": {},
   "outputs": [
    {
     "name": "stdout",
     "output_type": "stream",
     "text": [
      "Presidents from Virginia:\n",
      "  Thomas Jefferson\n",
      "  James Madison\n",
      "  James Monroe\n",
      "  John Tyler\n",
      "  George Washington\n"
     ]
    }
   ],
   "source": [
    "import pickle\n",
    "\n",
    "def main():\n",
    "    presDict = \\\n",
    "    createDictFromBinaryFile(\"USpresStatesDict.dat\")\n",
    "    state = getState(presDict)\n",
    "    displayOutput(state, presDict)\n",
    "\n",
    "\n",
    "def createDictFromBinaryFile(fileName):\n",
    "    infile = open(fileName, 'rb')\n",
    "    dictionary = pickle.load(infile)\n",
    "    infile.close()\n",
    "    return dictionary\n",
    "\n",
    "def getState(dictName):\n",
    "    state = input(\"Enter the name of a state: \")\n",
    "    if state in dictName.values():\n",
    "        return state\n",
    "    else:\n",
    "        return \"There are no presidents from \" +state + '.'\n",
    "\n",
    "def displayOutput(state, dictName):\n",
    "    if state.startswith(\"There\"):\n",
    "        print(state)\n",
    "    else:\n",
    "        print(\"Presidents from\", state + \":\")\n",
    "        for pres in sorted(dictName):\n",
    "            if dictName[pres]  == state:\n",
    "                print(\"  \" + pres[1] + \" \" + pres[0])\n",
    "\n",
    "\n",
    "main()\n",
    "\n",
    "\n"
   ]
  }
 ],
 "metadata": {
  "kernelspec": {
   "display_name": "base",
   "language": "python",
   "name": "python3"
  },
  "language_info": {
   "codemirror_mode": {
    "name": "ipython",
    "version": 3
   },
   "file_extension": ".py",
   "mimetype": "text/x-python",
   "name": "python",
   "nbconvert_exporter": "python",
   "pygments_lexer": "ipython3",
   "version": "3.9.13 (main, Aug 25 2022, 23:51:50) [MSC v.1916 64 bit (AMD64)]"
  },
  "orig_nbformat": 4,
  "vscode": {
   "interpreter": {
    "hash": "ad2bdc8ecc057115af97d19610ffacc2b4e99fae6737bb82f5d7fb13d2f2c186"
   }
  }
 },
 "nbformat": 4,
 "nbformat_minor": 2
}
