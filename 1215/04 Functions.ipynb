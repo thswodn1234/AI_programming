{
 "cells": [
  {
   "attachments": {},
   "cell_type": "markdown",
   "id": "a41df1f5",
   "metadata": {},
   "source": [
    "# Function"
   ]
  },
  {
   "cell_type": "code",
   "execution_count": 1,
   "id": "0c71830c",
   "metadata": {},
   "outputs": [
    {
     "name": "stdout",
     "output_type": "stream",
     "text": [
      "First name: Franklin\n"
     ]
    }
   ],
   "source": [
    "def main():\n",
    "    fullName = input(\"Enter a person`s full name: \")\n",
    "    print(\"First name:\", firstName(fullName))\n",
    "\n",
    "def firstName(fullName):\n",
    "    firstSpace =fullName.index(\" \")\n",
    "    givenName = fullName[:firstSpace]\n",
    "    return givenName\n",
    "\n",
    "main()"
   ]
  },
  {
   "cell_type": "code",
   "execution_count": 2,
   "id": "6058d89f",
   "metadata": {},
   "outputs": [
    {
     "name": "stdout",
     "output_type": "stream",
     "text": [
      "Earnings: $1,163.75\n"
     ]
    }
   ],
   "source": [
    "def main():\n",
    "    hourlyWage = float(input(\"Enter the hourly wage: \"))\n",
    "    hoursWorked = int(input(\"Enter # hours worked: \"))\n",
    "    earnings = pay(hourlyWage, hoursWorked)\n",
    "    print(\"Earnings: ${0:,.2f}\".format(earnings))\n",
    "\n",
    "def pay(wage, hours):\n",
    "    if hours <= 40:\n",
    "        amount = wage * hours\n",
    "    else:\n",
    "        amount = (wage * 40) + ((1.5) * wage * (hours - 40))\n",
    "    return amount\n",
    "\n",
    "main()"
   ]
  },
  {
   "cell_type": "code",
   "execution_count": 3,
   "id": "a3f00de7",
   "metadata": {},
   "outputs": [
    {
     "name": "stdout",
     "output_type": "stream",
     "text": [
      "The following vowels occur in the word: A I O\n"
     ]
    }
   ],
   "source": [
    "def main():\n",
    "    word = input(\"Enter a word: \")\n",
    "    listOfVowels = occurringVowels(word)\n",
    "    print(\"The following vowels occur in the word:\", end=' ')\n",
    "    stringOfVowels = \" \".join(listOfVowels)\n",
    "    print(stringOfVowels)\n",
    "\n",
    "def occurringVowels(word):\n",
    "    word = word.upper()\n",
    "    vowels = ('A','E', 'I','O','U')\n",
    "    includedVowels = []\n",
    "    for vowel in vowels:\n",
    "        if vowel in word:\n",
    "            includedVowels.append(vowel)\n",
    "    return includedVowels\n",
    "\n",
    "main()"
   ]
  },
  {
   "cell_type": "code",
   "execution_count": 6,
   "id": "6d24727e",
   "metadata": {},
   "outputs": [
    {
     "name": "stdout",
     "output_type": "stream",
     "text": [
      "Balance: $14,802.44  Interest Earned : $ 4,802.44\n"
     ]
    }
   ],
   "source": [
    "INTEREST_RATE = .04\n",
    "\n",
    "def main():\n",
    "    (deposit, numberOfYears) = getInput()\n",
    "    bal, intEarned = balAndInterest(deposit, numberOfYears)\n",
    "    displayOutput(bal, intEarned)\n",
    "\n",
    "def getInput():\n",
    "    deposit = int(input(\"Enter the amount of deposit: \"))\n",
    "    numberOfYears = int(input(\"Enter # of years: \"))\n",
    "    return (deposit, numberOfYears)\n",
    "\n",
    "def balAndInterest(principal, numYears):\n",
    "    balance = principal * ((1 + INTEREST_RATE) ** numYears)\n",
    "    interestEarned = balance - principal\n",
    "    return (balance, interestEarned)\n",
    "\n",
    "def displayOutput(bal, intEarned):\n",
    "    print(\"Balance: ${0:,.2f}  Interest Earned : ${1: ,.2f}\".format(bal, intEarned))\n",
    "\n",
    "main()"
   ]
  },
  {
   "cell_type": "code",
   "execution_count": 7,
   "id": "08df8577",
   "metadata": {},
   "outputs": [
    {
     "name": "stdout",
     "output_type": "stream",
     "text": [
      "Sorted by length in ascending order:\n",
      "['two', 'brrr', 'break', 'equals', 'sequoia', 'democratic'] \n",
      "\n",
      "Sorted by number of vowels in descending order:\n",
      "['sequoia', 'democratic', 'equals', 'break', 'two', 'brrr']\n"
     ]
    }
   ],
   "source": [
    "def main():\n",
    "    list1 = [\"democratic\", \"sequoia\", \"equals\", \"brrr\", \"break\",\"two\"]\n",
    "    list1.sort(key=len)\n",
    "    print(\"Sorted by length in ascending order:\")\n",
    "    print(list1, '\\n')\n",
    "    list1.sort(key=numberOfVowels, reverse=True)\n",
    "    print(\"Sorted by number of vowels in descending order:\")\n",
    "    print(list1)\n",
    "\n",
    "def numberOfVowels(word):\n",
    "    vowels = ('a', 'e', 'i','o','u')\n",
    "    total = 0\n",
    "    for vowel in vowels:\n",
    "        total += word.count(vowel)\n",
    "    return total\n",
    "\n",
    "main()\n"
   ]
  },
  {
   "cell_type": "code",
   "execution_count": 8,
   "id": "18425c1f",
   "metadata": {},
   "outputs": [
    {
     "data": {
      "text/plain": [
       "['blue', 'red', 'white']"
      ]
     },
     "execution_count": 8,
     "metadata": {},
     "output_type": "execute_result"
    }
   ],
   "source": [
    "list1 = ['white', 'blue', 'red']\n",
    "list2 = sorted(list1)\n",
    "list2\n",
    "\n"
   ]
  },
  {
   "cell_type": "code",
   "execution_count": 10,
   "id": "9a61d9a8",
   "metadata": {},
   "outputs": [
    {
     "data": {
      "text/plain": [
       "['white', 'red', 'blue']"
      ]
     },
     "execution_count": 10,
     "metadata": {},
     "output_type": "execute_result"
    }
   ],
   "source": [
    "sorted(list1, reverse=True)"
   ]
  },
  {
   "cell_type": "code",
   "execution_count": 11,
   "id": "068bec28",
   "metadata": {},
   "outputs": [
    {
     "data": {
      "text/plain": [
       "['red', 'blue', 'white']"
      ]
     },
     "execution_count": 11,
     "metadata": {},
     "output_type": "execute_result"
    }
   ],
   "source": [
    "sorted(list1, key=len)"
   ]
  },
  {
   "cell_type": "code",
   "execution_count": 16,
   "id": "66885425",
   "metadata": {},
   "outputs": [
    {
     "data": {
      "text/plain": [
       "['white', 'blue', 'red']"
      ]
     },
     "execution_count": 16,
     "metadata": {},
     "output_type": "execute_result"
    }
   ],
   "source": [
    "list1"
   ]
  },
  {
   "cell_type": "code",
   "execution_count": 17,
   "id": "1da85239",
   "metadata": {},
   "outputs": [
    {
     "data": {
      "text/plain": [
       "['a', 'm', 'p', 's']"
      ]
     },
     "execution_count": 17,
     "metadata": {},
     "output_type": "execute_result"
    }
   ],
   "source": [
    "sorted('spam')"
   ]
  },
  {
   "attachments": {},
   "cell_type": "markdown",
   "id": "bc21b01b",
   "metadata": {},
   "source": [
    "# Library Modules"
   ]
  },
  {
   "cell_type": "markdown",
   "id": "6e652579",
   "metadata": {},
   "source": []
  },
  {
   "attachments": {},
   "cell_type": "markdown",
   "id": "d0c5af3a",
   "metadata": {},
   "source": [
    "List Comprehension"
   ]
  },
  {
   "cell_type": "code",
   "execution_count": 18,
   "id": "9cb695cd",
   "metadata": {},
   "outputs": [
    {
     "data": {
      "text/plain": [
       "[2, 5, 6, 7]"
      ]
     },
     "execution_count": 18,
     "metadata": {},
     "output_type": "execute_result"
    }
   ],
   "source": [
    "list1 = '2567'\n",
    "[int(x) for x in list1]\n",
    "\n"
   ]
  },
  {
   "cell_type": "code",
   "execution_count": 19,
   "id": "0c841341",
   "metadata": {},
   "outputs": [],
   "source": [
    "def g(x):\n",
    "    return(int(x) ** 2)"
   ]
  },
  {
   "cell_type": "code",
   "execution_count": 20,
   "id": "64efe54b",
   "metadata": {},
   "outputs": [
    {
     "data": {
      "text/plain": [
       "[4, 25, 36, 49]"
      ]
     },
     "execution_count": 20,
     "metadata": {},
     "output_type": "execute_result"
    }
   ],
   "source": [
    "[g(x) for x in list1]"
   ]
  },
  {
   "cell_type": "code",
   "execution_count": 21,
   "id": "d690c24d",
   "metadata": {},
   "outputs": [
    {
     "data": {
      "text/plain": [
       "[25, 49]"
      ]
     },
     "execution_count": 21,
     "metadata": {},
     "output_type": "execute_result"
    }
   ],
   "source": [
    "[g(x) for x in list1 if int(x) % 2 == 1]"
   ]
  },
  {
   "cell_type": "code",
   "execution_count": 22,
   "id": "08b04833",
   "metadata": {},
   "outputs": [
    {
     "data": {
      "text/plain": [
       "[97, 98, 99]"
      ]
     },
     "execution_count": 22,
     "metadata": {},
     "output_type": "execute_result"
    }
   ],
   "source": [
    "[ord(x) for x in \"abc\"]"
   ]
  },
  {
   "cell_type": "code",
   "execution_count": 23,
   "id": "c713fcca",
   "metadata": {},
   "outputs": [
    {
     "data": {
      "text/plain": [
       "[2.0, 3.0]"
      ]
     },
     "execution_count": 23,
     "metadata": {},
     "output_type": "execute_result"
    }
   ],
   "source": [
    "[x ** .5 for x in (4,-1,9) if x >= 0]"
   ]
  },
  {
   "cell_type": "code",
   "execution_count": 24,
   "id": "9df2d03c",
   "metadata": {},
   "outputs": [
    {
     "data": {
      "text/plain": [
       "[0, 1, 4]"
      ]
     },
     "execution_count": 24,
     "metadata": {},
     "output_type": "execute_result"
    }
   ],
   "source": [
    "[x ** 2 for x in range(3)]"
   ]
  },
  {
   "cell_type": "code",
   "execution_count": 25,
   "id": "a2f032ed",
   "metadata": {},
   "outputs": [
    {
     "name": "stdout",
     "output_type": "stream",
     "text": [
      "65\n"
     ]
    }
   ],
   "source": [
    "print(ord('A'))"
   ]
  },
  {
   "cell_type": "code",
   "execution_count": 26,
   "id": "5e280f62",
   "metadata": {},
   "outputs": [
    {
     "name": "stdout",
     "output_type": "stream",
     "text": [
      "A\n"
     ]
    }
   ],
   "source": [
    "print(chr(65))"
   ]
  },
  {
   "attachments": {},
   "cell_type": "markdown",
   "id": "1027d427",
   "metadata": {},
   "source": [
    "Default Argument Values"
   ]
  },
  {
   "cell_type": "code",
   "execution_count": 27,
   "id": "de4cbfab",
   "metadata": {},
   "outputs": [
    {
     "name": "stdout",
     "output_type": "stream",
     "text": [
      "Hello\n",
      "WorldWorldWorldWorldWorld\n"
     ]
    }
   ],
   "source": [
    "def main():\n",
    "    say('Hello')\n",
    "    say('World',5)\n",
    "\n",
    "def say(message, times=1):\n",
    "    print(message * times)\n",
    "\n",
    "main()\n"
   ]
  },
  {
   "attachments": {},
   "cell_type": "markdown",
   "id": "2b65ac8a",
   "metadata": {},
   "source": [
    "Keyword Arguments"
   ]
  },
  {
   "cell_type": "code",
   "execution_count": 29,
   "id": "ea1d8f27",
   "metadata": {},
   "outputs": [
    {
     "name": "stdout",
     "output_type": "stream",
     "text": [
      "a is  3 and b is 7 and c is 10\n",
      "a is  25 and b is 5 and c is 24\n",
      "a is  100 and b is 5 and c is 50\n"
     ]
    }
   ],
   "source": [
    "def main():\n",
    "    func(3, 7)\n",
    "    func(25, c = 24)\n",
    "    func(c = 50, a = 100)\n",
    "\n",
    "def func(a, b= 5, c = 10):\n",
    "    print(\"a is \", a , 'and b is', b, 'and c is', c )\n",
    "\n",
    "main()\n",
    "    "
   ]
  },
  {
   "attachments": {},
   "cell_type": "markdown",
   "id": "890762a5",
   "metadata": {},
   "source": [
    "Lambda Expression"
   ]
  },
  {
   "cell_type": "code",
   "execution_count": 30,
   "id": "bcbd1583",
   "metadata": {},
   "outputs": [
    {
     "name": "stdout",
     "output_type": "stream",
     "text": [
      "John Backus, James Gosling, Dennis Ritchie, Alan kay\n"
     ]
    }
   ],
   "source": [
    "names = [\"Dennis Ritchie\", \"Alan kay\", \"John Backus\", \"James Gosling\"]\n",
    "\n",
    "names.sort(key=lambda name: name.split()[-1])\n",
    "nameString = \", \".join(names)\n",
    "print(nameString)"
   ]
  },
  {
   "attachments": {},
   "cell_type": "markdown",
   "id": "4293a266",
   "metadata": {},
   "source": [
    "# Homework #2"
   ]
  },
  {
   "attachments": {},
   "cell_type": "markdown",
   "id": "3ef7df20",
   "metadata": {},
   "source": [
    "102. Analyze a Sentence Write a program that displays the first and last words\n",
    "of a sentence input by the user. Assume that the only punctuation is a period\n",
    "at the end of the sentence.\n",
    "\n",
    "Enter a sentence: Reach for the stars.   \n",
    "First word: Reach   \n",
    "Last word: stars    "
   ]
  },
  {
   "cell_type": "code",
   "execution_count": 34,
   "id": "2c34ff8f",
   "metadata": {},
   "outputs": [
    {
     "name": "stdout",
     "output_type": "stream",
     "text": [
      "First word: Reach\n",
      "Last word: stars\n"
     ]
    }
   ],
   "source": [
    "\n",
    "names = input(\"Enter a sentence: \").split()\n",
    "print(f\"First word: {names[0]}\")\n",
    "print(f\"Last word: {names[-1]}\")"
   ]
  },
  {
   "attachments": {},
   "cell_type": "markdown",
   "id": "39ee500b",
   "metadata": {},
   "source": [
    "104. Name Write a program that requests a three-part name and then displays\n",
    "the middle name.\n",
    "\n",
    "Enter a 3-part name: Michael Andrew Fox    \n",
    "Middle name: Andrew     "
   ]
  },
  {
   "cell_type": "code",
   "execution_count": 35,
   "id": "9278bdcc",
   "metadata": {},
   "outputs": [
    {
     "name": "stdout",
     "output_type": "stream",
     "text": [
      "Middle name: Andrew\n"
     ]
    }
   ],
   "source": [
    "names = input(\"Enter a 3-part name: \").split()\n",
    "print(f\"Middle name: {names[1]}\")"
   ]
  },
  {
   "attachments": {},
   "cell_type": "markdown",
   "id": "3180ed30",
   "metadata": {},
   "source": [
    "Exercises 3.4\n",
    "66. Median The median of an ordered set of measurements is a number\n",
    "separating the lower half from the upper half. If the number of measurements\n",
    "is odd, the median is the middle measurement. If the number of measurements\n",
    "is even, the median is the average of the two middle measurements. Write a\n",
    "program that requests a number n and a set of n measurements (not necessarily ordered) as input and then displays the median of the measurements.\n",
    "\n",
    "How many numbers do you want to enter? 4   \n",
    "Enter a number: 9   \n",
    "Enter a number: 3   \n",
    "Enter a number: 6   \n",
    "Enter a number: 5     \n",
    "Median: 5.5     "
   ]
  },
  {
   "cell_type": "code",
   "execution_count": 7,
   "id": "b7d947b4",
   "metadata": {},
   "outputs": [
    {
     "name": "stdout",
     "output_type": "stream",
     "text": [
      "Median:5.0\n"
     ]
    }
   ],
   "source": [
    "a = int(input(\"How many numbers do you want to enter?\"))\n",
    "b = []\n",
    "\n",
    "for i in range(a):\n",
    "    b.append(float(input(\"Enter a number:\")))\n",
    "\n",
    "if len(b) % 2 == 1:\n",
    "    print(f\"Median:{sum(b) / len(b)}\")\n",
    "else:\n",
    "    for i in range(0,len(b)):\n",
    "        if i+1 != (len(b)):\n",
    "            b[i+1] = (b[i] + b[i + 1]) / 2\n",
    "    print(f\"Median:{b[-1]}\")    \n",
    "        \n",
    "    \n"
   ]
  },
  {
   "attachments": {},
   "cell_type": "markdown",
   "id": "acf9d000",
   "metadata": {},
   "source": [
    "74. A Puzzle     \n",
    "The following puzzle is known as The Big Cross-Out Swindle. “Beginning with the word ‘NAISNIENLGELTETWEORRSD,’ cross out nine\n",
    "letters in such a way that the remaining letters spell a single word”. Write a\n",
    "program that creates variables named startingWord, crossedOutLetters, and\n",
    "remainingLetters. The program should assign to startingWord the string given\n",
    "in the puzzle, assign to crossedOutLetters a list containing every other letter of\n",
    "startingWord beginning with the initial letter N, and assign to remainingLetters\n",
    "a list containing every other letter of startingWord beginning with the second\n",
    "letter, A. The program should then display the values of the three variables.\n",
    "\n",
    "Starting word: NAISNIENLGELTETWEORRSD    \n",
    "Crossed out letters: N I N E L E T T E R S    \n",
    "Remaining letters: A S I N G L E W O R D   \n"
   ]
  },
  {
   "cell_type": "code",
   "execution_count": 19,
   "id": "43aa615e",
   "metadata": {},
   "outputs": [
    {
     "name": "stdout",
     "output_type": "stream",
     "text": [
      "Crossed out letters: N I N E L E T T E R S\n",
      "Remaining letters: A S I N G L E W O R D\n"
     ]
    }
   ],
   "source": [
    "a = list(input(\"Starting word:\"))\n",
    "\n",
    "b = [a[i] for i in range(0,len(a)) if i % 2 == 1]\n",
    "c = [a[i] for i in range(0,len(a)) if i % 2 == 0]\n",
    "print(f\"Crossed out letters:\",end=' ')\n",
    "print(' '.join(c))\n",
    "print(f\"Remaining letters:\" ,end=' ')\n",
    "print(' '.join(b))\n",
    "\n",
    "\n"
   ]
  },
  {
   "attachments": {},
   "cell_type": "markdown",
   "id": "1a406cf7",
   "metadata": {},
   "source": [
    "78. \n",
    "Special Number Write a program to find the four-digit number, call it abcd, whose digits are reversed when the number is multiplied by 4. That is,4´ abcd = dcba.\n",
    "\n",
    "Since 4 times 2178 is 8712,    \n",
    "the special number is 2178.    "
   ]
  },
  {
   "cell_type": "code",
   "execution_count": 43,
   "id": "5cd7d00a",
   "metadata": {},
   "outputs": [
    {
     "name": "stdout",
     "output_type": "stream",
     "text": [
      "the special number is 2178\n",
      "the special number is 8002\n"
     ]
    }
   ],
   "source": [
    "\n",
    "for i in range(1000,10000):\n",
    "    b = i*4\n",
    "    a = list(str(b))\n",
    "    d = a[-1::-1]\n",
    "    c = \"\"\n",
    "    for j in range(0,4):\n",
    "        c += d[j]\n",
    "    if i == int(c):\n",
    "        print(f\"the special number is {i}\")"
   ]
  },
  {
   "attachments": {},
   "cell_type": "markdown",
   "id": "20294e7b",
   "metadata": {},
   "source": [
    "26. Count Function Suppose the count function for a string didn’t exist. Define\n",
    "a function that returns the number of non-overlapping occurrences of a\n",
    "substring in a string."
   ]
  },
  {
   "cell_type": "code",
   "execution_count": null,
   "id": "bf173d19",
   "metadata": {},
   "outputs": [],
   "source": []
  },
  {
   "attachments": {},
   "cell_type": "markdown",
   "id": "ca1c6e3b",
   "metadata": {},
   "source": [
    "30. Pay Raise Write a pay-raise program that requests a person’s first name,\n",
    "last name, and current annual salary, and then displays the person’s salary for\n",
    "next year. People earning less than $40,000 will receive a 5% raise, and those\n",
    "earning $40,000 or more will receive a raise of $2,000 plus 2% of the amount\n",
    "over $40,000. Use functions for input and output, and a function to calculate\n",
    "the new salary.\n",
    "\n",
    "Enter first name: John   \n",
    "Enter last name: Doe     \n",
    "Enter current salary: 48000    \n",
    "New salary for John Doe: $50,160.00    "
   ]
  },
  {
   "cell_type": "code",
   "execution_count": null,
   "id": "a95f21d7",
   "metadata": {},
   "outputs": [],
   "source": [
    "a = input(\"Enter first name:\")\n",
    "b = input(\"Enter first name:\")\n",
    "c = int(input(\"Enter current salary:\"))\n",
    "d =   if c > 40000 \n",
    "print(f\"New salary for {a} {b} \")"
   ]
  }
 ],
 "metadata": {
  "kernelspec": {
   "display_name": "base",
   "language": "python",
   "name": "python3"
  },
  "language_info": {
   "codemirror_mode": {
    "name": "ipython",
    "version": 3
   },
   "file_extension": ".py",
   "mimetype": "text/x-python",
   "name": "python",
   "nbconvert_exporter": "python",
   "pygments_lexer": "ipython3",
   "version": "3.9.13"
  },
  "vscode": {
   "interpreter": {
    "hash": "ad2bdc8ecc057115af97d19610ffacc2b4e99fae6737bb82f5d7fb13d2f2c186"
   }
  }
 },
 "nbformat": 4,
 "nbformat_minor": 5
}
